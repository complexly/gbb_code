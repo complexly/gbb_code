{
 "cells": [
  {
   "cell_type": "code",
   "execution_count": null,
   "metadata": {
    "vscode": {
     "languageId": "r"
    }
   },
   "outputs": [],
   "source": [
    "# >>> Path configuration (auto-inserted) >>>\n",
    "PROJECT_ROOT <- normalizePath(Sys.getenv(\"GBB_PROJECT_ROOT\", \".\"), mustWork = FALSE)\n",
    "DATA <- file.path(PROJECT_ROOT, \"data\")\n",
    "PATSTAT <- file.path(PROJECT_ROOT, \"patstat\")\n",
    "PATTEXT <- file.path(PROJECT_ROOT, \"patent_text\")\n",
    "SAMPLEDATA <- file.path(PROJECT_ROOT, \"sampledata\")\n",
    "\n",
    "if (!dir.exists(PATSTAT) && dir.exists(file.path(SAMPLEDATA, \"patstat\"))) {\n",
    "  PATSTAT <- file.path(SAMPLEDATA, \"patstat\")\n",
    "}\n",
    "if (!dir.exists(PATTEXT) && dir.exists(file.path(SAMPLEDATA, \"patent_text\"))) {\n",
    "  PATTEXT <- file.path(SAMPLEDATA, \"patent_text\")\n",
    "}\n",
    "if (!dir.exists(DATA) && dir.exists(file.path(PROJECT_ROOT, \"data\"))) {\n",
    "  DATA <- file.path(PROJECT_ROOT, \"data\")\n",
    "}\n",
    "# <<< Path configuration (auto-inserted) <<<\n"
   ]
  },
  {
   "cell_type": "code",
   "execution_count": null,
   "id": "bf7d9ae0-1daf-4b04-952c-1cc8ffe5a47c",
   "metadata": {
    "vscode": {
     "languageId": "r"
    }
   },
   "outputs": [],
   "source": [
    "## install below if not exist\n",
    "## install.packages(c(\"tidyverse\",\"fixest\",\"arrow\"))\n",
    "library(tidyverse)\n",
    "library(fixest)\n",
    "library(arrow)"
   ]
  },
  {
   "cell_type": "code",
   "execution_count": null,
   "id": "4e4cc601-cb62-4c73-9248-65be244666ae",
   "metadata": {
    "vscode": {
     "languageId": "r"
    }
   },
   "outputs": [],
   "source": [
    "growthdf <- read_parquet('firm_green_data.parquet') |> filter(period==1995) |> filter(wt>=10) \n",
    "growthdf |> head()"
   ]
  },
  {
   "cell_type": "code",
   "execution_count": null,
   "id": "72b0fe38-9708-4524-9046-9101de662212",
   "metadata": {
    "vscode": {
     "languageId": "r"
    }
   },
   "outputs": [],
   "source": [
    "mod1 = feols((num_pat_ccmt_2>0) ~ log(path+1)*log(src+1)|person_id+y02,cluster = ~person_id+y02,data= growthdf|>filter(num_pat_ccmt==0))\n",
    "print(mod1)"
   ]
  },
  {
   "cell_type": "code",
   "execution_count": null,
   "id": "4baac02c-3643-4ea2-b501-367aa5cc440c",
   "metadata": {
    "vscode": {
     "languageId": "r"
    }
   },
   "outputs": [],
   "source": [
    "mod2 = feols((num_pat_ccmt_2>0) ~ log(path+1)+log(src+1)|person_id+y02,cluster = ~person_id+y02,data= growthdf|>filter(num_pat_ccmt==0))\n",
    "print(mod2)"
   ]
  },
  {
   "cell_type": "code",
   "execution_count": null,
   "id": "2752acdc-329f-4acb-b658-4177a614c2ec",
   "metadata": {
    "vscode": {
     "languageId": "r"
    }
   },
   "outputs": [],
   "source": [
    "mod3 = feols((num_pat_ccmt_2>0) ~ log(path+1)|person_id+y02,cluster = ~person_id+y02,data= growthdf|>filter(num_pat_ccmt==0))\n",
    "print(mod3)"
   ]
  },
  {
   "cell_type": "code",
   "execution_count": null,
   "id": "425d8fe0-6480-497c-baf2-bd7fbf6e13b2",
   "metadata": {
    "vscode": {
     "languageId": "r"
    }
   },
   "outputs": [],
   "source": [
    "mod4 = feols((num_pat_ccmt_2>0) ~ log(src+1)|person_id+y02,cluster = ~person_id+y02,data= growthdf|>filter(num_pat_ccmt==0))\n",
    "print(mod4)"
   ]
  },
  {
   "cell_type": "code",
   "execution_count": null,
   "id": "406859a1-f8a0-4d85-bfc0-7c30b11eaed8",
   "metadata": {
    "vscode": {
     "languageId": "r"
    }
   },
   "outputs": [],
   "source": [
    "etable(mod4,mod3,mod2,mod1)"
   ]
  },
  {
   "cell_type": "code",
   "execution_count": null,
   "id": "fcb10f2c-4bbb-4eef-a182-2441a01ff2ef",
   "metadata": {
    "vscode": {
     "languageId": "r"
    }
   },
   "outputs": [],
   "source": []
  }
 ],
 "metadata": {
  "kernelspec": {
   "display_name": "R",
   "language": "R",
   "name": "ir"
  },
  "language_info": {
   "codemirror_mode": "r",
   "file_extension": ".r",
   "mimetype": "text/x-r-source",
   "name": "R",
   "pygments_lexer": "r",
   "version": "4.1.1"
  }
 },
 "nbformat": 4,
 "nbformat_minor": 5
}
