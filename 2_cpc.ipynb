{
 "cells": [
  {
   "cell_type": "code",
   "execution_count": 1,
   "id": "06a7d318-54cf-4eea-92bd-c54f208145a5",
   "metadata": {
    "editable": true,
    "slideshow": {
     "slide_type": ""
    },
    "tags": []
   },
   "outputs": [
    {
     "name": "stdout",
     "output_type": "stream",
     "text": [
      "INFO: Pandarallel will run on 25 workers.\n",
      "INFO: Pandarallel will use Memory file system to transfer data between the main process and workers.\n"
     ]
    }
   ],
   "source": [
    "import pandas as pd\n",
    "import numpy as np\n",
    "import gensim\n",
    "from scipy.linalg import qr\n",
    "import scipy.sparse as sp\n",
    "from pandarallel import pandarallel\n",
    "pandarallel.initialize(nb_workers=25,progress_bar=True)"
   ]
  },
  {
   "cell_type": "markdown",
   "id": "ea7d37ec",
   "metadata": {},
   "source": [
    "## identify the difference of CPCs in pairs"
   ]
  },
  {
   "cell_type": "code",
   "execution_count": 2,
   "id": "414bb9e2-571a-47dd-873f-7735ccbcd761",
   "metadata": {},
   "outputs": [
    {
     "data": {
      "text/html": [
       "<div>\n",
       "<style scoped>\n",
       "    .dataframe tbody tr th:only-of-type {\n",
       "        vertical-align: middle;\n",
       "    }\n",
       "\n",
       "    .dataframe tbody tr th {\n",
       "        vertical-align: top;\n",
       "    }\n",
       "\n",
       "    .dataframe thead th {\n",
       "        text-align: right;\n",
       "    }\n",
       "</style>\n",
       "<table border=\"1\" class=\"dataframe\">\n",
       "  <thead>\n",
       "    <tr style=\"text-align: right;\">\n",
       "      <th></th>\n",
       "      <th>ccmt_patent_id</th>\n",
       "      <th>patent_id</th>\n",
       "      <th>cos</th>\n",
       "    </tr>\n",
       "  </thead>\n",
       "  <tbody>\n",
       "    <tr>\n",
       "      <th>0</th>\n",
       "      <td>1187498</td>\n",
       "      <td>24371233</td>\n",
       "      <td>0.186756</td>\n",
       "    </tr>\n",
       "    <tr>\n",
       "      <th>1</th>\n",
       "      <td>1187498</td>\n",
       "      <td>25512219</td>\n",
       "      <td>0.191544</td>\n",
       "    </tr>\n",
       "    <tr>\n",
       "      <th>2</th>\n",
       "      <td>1187498</td>\n",
       "      <td>11782729</td>\n",
       "      <td>0.191563</td>\n",
       "    </tr>\n",
       "    <tr>\n",
       "      <th>3</th>\n",
       "      <td>1187498</td>\n",
       "      <td>25511142</td>\n",
       "      <td>0.195533</td>\n",
       "    </tr>\n",
       "    <tr>\n",
       "      <th>4</th>\n",
       "      <td>1187498</td>\n",
       "      <td>40387622</td>\n",
       "      <td>0.195809</td>\n",
       "    </tr>\n",
       "  </tbody>\n",
       "</table>\n",
       "</div>"
      ],
      "text/plain": [
       "   ccmt_patent_id  patent_id       cos\n",
       "0         1187498   24371233  0.186756\n",
       "1         1187498   25512219  0.191544\n",
       "2         1187498   11782729  0.191563\n",
       "3         1187498   25511142  0.195533\n",
       "4         1187498   40387622  0.195809"
      ]
     },
     "execution_count": 2,
     "metadata": {},
     "output_type": "execute_result"
    }
   ],
   "source": [
    "df_matched_expand = pd.read_parquet('data/matched_ccmt_other.parquet',columns=['ccmt_patent_id','patent_id','cos'])\n",
    "df_matched_expand = df_matched_expand[df_matched_expand['cos'].between(0.01,0.5)]\n",
    "df_matched_expand.head()"
   ]
  },
  {
   "cell_type": "code",
   "execution_count": null,
   "id": "454468cf-50cc-468a-bf56-4d31f13e8ef5",
   "metadata": {},
   "outputs": [
    {
     "data": {
      "text/plain": [
       "(253017, 50)"
      ]
     },
     "execution_count": 3,
     "metadata": {},
     "output_type": "execute_result"
    }
   ],
   "source": [
    "## load trained cpc2vec from ocrrence of cpc in patents\n",
    "cpc2vec = gensim.models.Word2Vec.load('data/external/cpc_sg_ns_dim50.model').wv\n",
    "cpc2vec.unit_normalize_all()\n",
    "cpc2vec.vectors.shape"
   ]
  },
  {
   "cell_type": "code",
   "execution_count": 4,
   "id": "a352d038-542a-4a61-8c62-6ff9aa67a5d4",
   "metadata": {},
   "outputs": [
    {
     "data": {
      "text/plain": [
       "1271058"
      ]
     },
     "execution_count": 4,
     "metadata": {},
     "output_type": "execute_result"
    }
   ],
   "source": [
    "famidlist = set(df_matched_expand.ccmt_patent_id.tolist()+df_matched_expand.patent_id.tolist())\n",
    "len(famidlist)"
   ]
  },
  {
   "cell_type": "code",
   "execution_count": null,
   "id": "40f0acbf-cce5-41a0-b2bb-4eb2ce5f385d",
   "metadata": {},
   "outputs": [
    {
     "data": {
      "text/html": [
       "<div>\n",
       "<style scoped>\n",
       "    .dataframe tbody tr th:only-of-type {\n",
       "        vertical-align: middle;\n",
       "    }\n",
       "\n",
       "    .dataframe tbody tr th {\n",
       "        vertical-align: top;\n",
       "    }\n",
       "\n",
       "    .dataframe thead th {\n",
       "        text-align: right;\n",
       "    }\n",
       "</style>\n",
       "<table border=\"1\" class=\"dataframe\">\n",
       "  <thead>\n",
       "    <tr style=\"text-align: right;\">\n",
       "      <th></th>\n",
       "      <th>patent_id</th>\n",
       "      <th>cpc</th>\n",
       "    </tr>\n",
       "  </thead>\n",
       "  <tbody>\n",
       "    <tr>\n",
       "      <th>613644</th>\n",
       "      <td>569328</td>\n",
       "      <td>A61M1/32</td>\n",
       "    </tr>\n",
       "    <tr>\n",
       "      <th>613645</th>\n",
       "      <td>569328</td>\n",
       "      <td>A61M1/325</td>\n",
       "    </tr>\n",
       "    <tr>\n",
       "      <th>613646</th>\n",
       "      <td>569328</td>\n",
       "      <td>Y10S261/28</td>\n",
       "    </tr>\n",
       "    <tr>\n",
       "      <th>619771</th>\n",
       "      <td>574675</td>\n",
       "      <td>A61F7/02</td>\n",
       "    </tr>\n",
       "    <tr>\n",
       "      <th>619772</th>\n",
       "      <td>574675</td>\n",
       "      <td>A61F2007/0001</td>\n",
       "    </tr>\n",
       "  </tbody>\n",
       "</table>\n",
       "</div>"
      ],
      "text/plain": [
       "        patent_id            cpc\n",
       "613644     569328       A61M1/32\n",
       "613645     569328      A61M1/325\n",
       "613646     569328     Y10S261/28\n",
       "619771     574675       A61F7/02\n",
       "619772     574675  A61F2007/0001"
      ]
     },
     "execution_count": 5,
     "metadata": {},
     "output_type": "execute_result"
    }
   ],
   "source": [
    "# load cpc\n",
    "cpc = pd.read_parquet(\n",
    "    \"../patstat/tls225.parquet\",\n",
    "    columns=['docdb_family_id','cpc_class_symbol'],\n",
    ")\n",
    "cpc.columns=['patent_id','cpc']\n",
    "cpc['cpc'] = cpc.cpc.str.replace(\" \", \"\")\n",
    "cpc = cpc[cpc.patent_id.isin(famidlist)&(cpc.cpc.isin(cpc2vec.index_to_key))]\n",
    "cpc.drop_duplicates(inplace=True)\n",
    "cpc.head()"
   ]
  },
  {
   "cell_type": "code",
   "execution_count": 6,
   "id": "f0e2e828-1b24-4a97-9cf9-68c1a4907f46",
   "metadata": {},
   "outputs": [
    {
     "data": {
      "text/plain": [
       "((7921721, 2), 1265550)"
      ]
     },
     "execution_count": 6,
     "metadata": {},
     "output_type": "execute_result"
    }
   ],
   "source": [
    "cpc.shape, cpc.patent_id.nunique()"
   ]
  },
  {
   "cell_type": "code",
   "execution_count": 7,
   "id": "2443014c-2dba-424c-ac45-9998a110a056",
   "metadata": {},
   "outputs": [],
   "source": [
    "y02 = cpc[cpc.cpc.str[:3].isin(['Y02','Y04'])].copy().reset_index(drop=True)\n",
    "cpc1 = cpc[cpc.cpc.str[0]!='Y'].copy().reset_index(drop=True)\n",
    "del cpc"
   ]
  },
  {
   "cell_type": "code",
   "execution_count": 8,
   "id": "3ff4f667-5283-4334-8e42-91cae7a885ae",
   "metadata": {},
   "outputs": [
    {
     "data": {
      "text/html": [
       "<div>\n",
       "<style scoped>\n",
       "    .dataframe tbody tr th:only-of-type {\n",
       "        vertical-align: middle;\n",
       "    }\n",
       "\n",
       "    .dataframe tbody tr th {\n",
       "        vertical-align: top;\n",
       "    }\n",
       "\n",
       "    .dataframe thead th {\n",
       "        text-align: right;\n",
       "    }\n",
       "</style>\n",
       "<table border=\"1\" class=\"dataframe\">\n",
       "  <thead>\n",
       "    <tr style=\"text-align: right;\">\n",
       "      <th></th>\n",
       "      <th>patent_id</th>\n",
       "      <th>cpc4d</th>\n",
       "    </tr>\n",
       "  </thead>\n",
       "  <tbody>\n",
       "    <tr>\n",
       "      <th>0</th>\n",
       "      <td>569328</td>\n",
       "      <td>A61M</td>\n",
       "    </tr>\n",
       "    <tr>\n",
       "      <th>2</th>\n",
       "      <td>574675</td>\n",
       "      <td>A61F</td>\n",
       "    </tr>\n",
       "    <tr>\n",
       "      <th>6</th>\n",
       "      <td>574675</td>\n",
       "      <td>A61L</td>\n",
       "    </tr>\n",
       "    <tr>\n",
       "      <th>8</th>\n",
       "      <td>1187498</td>\n",
       "      <td>C10K</td>\n",
       "    </tr>\n",
       "    <tr>\n",
       "      <th>9</th>\n",
       "      <td>1187498</td>\n",
       "      <td>F25J</td>\n",
       "    </tr>\n",
       "  </tbody>\n",
       "</table>\n",
       "</div>"
      ],
      "text/plain": [
       "   patent_id cpc4d\n",
       "0     569328  A61M\n",
       "2     574675  A61F\n",
       "6     574675  A61L\n",
       "8    1187498  C10K\n",
       "9    1187498  F25J"
      ]
     },
     "execution_count": 8,
     "metadata": {},
     "output_type": "execute_result"
    }
   ],
   "source": [
    "cpc4d = cpc1.assign(cpc4d = cpc1.cpc.str[:4])[['patent_id','cpc4d']].drop_duplicates()\n",
    "cpc4d.head()"
   ]
  },
  {
   "cell_type": "code",
   "execution_count": 10,
   "id": "4ed2295f-4988-4c07-9a6f-3354183babed",
   "metadata": {},
   "outputs": [
    {
     "data": {
      "text/plain": [
       "(Index([  569328,   574675,  1187498,  1236482,  1236560,  1236571,  1239098,\n",
       "         1239277,  1239357,  1239634,\n",
       "        ...\n",
       "        68699051, 68699111, 68840825, 68979654, 69143348, 69185062, 69322564,\n",
       "        69323073, 69323075, 69416627],\n",
       "       dtype='int64', length=1265470),\n",
       " Index(['A01B1/00', 'A01B1/02', 'A01B1/022', 'A01B1/026', 'A01B1/028',\n",
       "        'A01B1/06', 'A01B1/065', 'A01B1/08', 'A01B1/10', 'A01B1/12',\n",
       "        ...\n",
       "        'H05K9/0084', 'H05K9/0086', 'H05K9/0088', 'H05K9/009', 'H05K9/0092',\n",
       "        'H05K9/0094', 'H05K9/0096', 'H05K9/0098', 'H05K999/00', 'H05K999/99'],\n",
       "       dtype='object', length=194709))"
      ]
     },
     "execution_count": 10,
     "metadata": {},
     "output_type": "execute_result"
    }
   ],
   "source": [
    "from pandas.api.types import CategoricalDtype\n",
    "pat_c = CategoricalDtype(sorted(cpc1.patent_id.unique()), ordered=True)\n",
    "cpc_c = CategoricalDtype(sorted(cpc1.cpc.unique()), ordered=True)\n",
    "pat_c.categories, cpc_c.categories"
   ]
  },
  {
   "cell_type": "code",
   "execution_count": 11,
   "id": "086f69c6-7b70-484b-a8dd-a9a0717d87dc",
   "metadata": {},
   "outputs": [
    {
     "data": {
      "text/plain": [
       "Index(['A01B', 'A01C', 'A01D', 'A01F', 'A01G', 'A01H', 'A01J', 'A01K', 'A01L',\n",
       "       'A01M',\n",
       "       ...\n",
       "       'H04Q', 'H04R', 'H04S', 'H04W', 'H05B', 'H05C', 'H05F', 'H05G', 'H05H',\n",
       "       'H05K'],\n",
       "      dtype='object', length=653)"
      ]
     },
     "execution_count": 11,
     "metadata": {},
     "output_type": "execute_result"
    }
   ],
   "source": [
    "cpc4d_c = CategoricalDtype(sorted(cpc4d.cpc4d.unique().tolist()), ordered=True)\n",
    "cpc4d_c.categories"
   ]
  },
  {
   "cell_type": "code",
   "execution_count": 12,
   "id": "473146eb-2aaa-431a-be11-22232db24d93",
   "metadata": {},
   "outputs": [],
   "source": [
    "np.save('data/cpc4d_c.npy', cpc4d_c.categories)\n",
    "np.save('data/cpc_c.npy', cpc_c.categories)\n",
    "np.save('data/pat_c.npy', pat_c.categories)"
   ]
  },
  {
   "cell_type": "code",
   "execution_count": 13,
   "id": "6615150d-e229-4025-8356-6104aa3aeed1",
   "metadata": {},
   "outputs": [
    {
     "data": {
      "text/plain": [
       "0           70\n",
       "2           64\n",
       "6           69\n",
       "8          305\n",
       "9          498\n",
       "          ... \n",
       "6990573    548\n",
       "6990575    489\n",
       "6990576    551\n",
       "6990577    610\n",
       "6990590     61\n",
       "Length: 2294532, dtype: int16"
      ]
     },
     "execution_count": 13,
     "metadata": {},
     "output_type": "execute_result"
    }
   ],
   "source": [
    "dfrow2 = cpc4d.patent_id.astype(pat_c).cat.codes\n",
    "dfcol2 = cpc4d.cpc4d.astype(cpc4d_c).cat.codes\n",
    "dfcol2"
   ]
  },
  {
   "cell_type": "code",
   "execution_count": null,
   "id": "0ebac08c-32c5-4b70-80af-714c18e3ce63",
   "metadata": {
    "tags": []
   },
   "outputs": [
    {
     "data": {
      "text/plain": [
       "(1265470, 653)"
      ]
     },
     "execution_count": 14,
     "metadata": {},
     "output_type": "execute_result"
    }
   ],
   "source": [
    "## create sparse matrix of pat*cpc\n",
    "patcpc4dmat = sp.coo_matrix(\n",
    "    (np.ones(cpc4d.shape[0], dtype=int), (dfrow2, dfcol2)),\n",
    "    shape=(pat_c.categories.size, cpc4d_c.categories.size),\n",
    "    dtype=int,\n",
    ").tocsr()\n",
    "patcpc4dmat.shape"
   ]
  },
  {
   "cell_type": "code",
   "execution_count": 16,
   "id": "2929dcb5-4846-4a99-9ef0-7fc7279c2b91",
   "metadata": {},
   "outputs": [
    {
     "data": {
      "text/plain": [
       "(2865880, 3)"
      ]
     },
     "execution_count": 16,
     "metadata": {},
     "output_type": "execute_result"
    }
   ],
   "source": [
    "df_matched = df_matched_expand[\n",
    "    df_matched_expand.ccmt_patent_id.isin(cpc1.patent_id)\n",
    "    & df_matched_expand.patent_id.isin(cpc1.patent_id)\n",
    "].copy()\n",
    "df_matched.shape"
   ]
  },
  {
   "cell_type": "code",
   "execution_count": 17,
   "id": "9d3775ec-bee5-49c8-a6a8-81c912ab1a7d",
   "metadata": {},
   "outputs": [
    {
     "data": {
      "text/plain": [
       "((2865880, 653), (2865880, 653))"
      ]
     },
     "execution_count": 17,
     "metadata": {},
     "output_type": "execute_result"
    }
   ],
   "source": [
    "ccmtcpc4dmat = patcpc4dmat[df_matched.ccmt_patent_id.astype(pat_c).cat.codes,:]\n",
    "othercpc4dmat = patcpc4dmat[df_matched.patent_id.astype(pat_c).cat.codes,:]\n",
    "ccmtcpc4dmat.shape,othercpc4dmat.shape"
   ]
  },
  {
   "cell_type": "code",
   "execution_count": null,
   "id": "db3ae514-8eb4-422c-8a0d-8bb5871edab5",
   "metadata": {},
   "outputs": [
    {
     "data": {
      "text/html": [
       "<div>\n",
       "<style scoped>\n",
       "    .dataframe tbody tr th:only-of-type {\n",
       "        vertical-align: middle;\n",
       "    }\n",
       "\n",
       "    .dataframe tbody tr th {\n",
       "        vertical-align: top;\n",
       "    }\n",
       "\n",
       "    .dataframe thead th {\n",
       "        text-align: right;\n",
       "    }\n",
       "</style>\n",
       "<table border=\"1\" class=\"dataframe\">\n",
       "  <thead>\n",
       "    <tr style=\"text-align: right;\">\n",
       "      <th></th>\n",
       "      <th>ccmt_patent_id</th>\n",
       "      <th>patent_id</th>\n",
       "      <th>cos</th>\n",
       "      <th>samecpc4d</th>\n",
       "    </tr>\n",
       "  </thead>\n",
       "  <tbody>\n",
       "    <tr>\n",
       "      <th>4</th>\n",
       "      <td>1187498</td>\n",
       "      <td>40387622</td>\n",
       "      <td>0.195809</td>\n",
       "      <td>1</td>\n",
       "    </tr>\n",
       "    <tr>\n",
       "      <th>5</th>\n",
       "      <td>1187498</td>\n",
       "      <td>9232695</td>\n",
       "      <td>0.196449</td>\n",
       "      <td>1</td>\n",
       "    </tr>\n",
       "    <tr>\n",
       "      <th>12</th>\n",
       "      <td>1236571</td>\n",
       "      <td>9935855</td>\n",
       "      <td>0.202074</td>\n",
       "      <td>1</td>\n",
       "    </tr>\n",
       "    <tr>\n",
       "      <th>14</th>\n",
       "      <td>1236571</td>\n",
       "      <td>24695090</td>\n",
       "      <td>0.213555</td>\n",
       "      <td>1</td>\n",
       "    </tr>\n",
       "    <tr>\n",
       "      <th>17</th>\n",
       "      <td>1236571</td>\n",
       "      <td>22832154</td>\n",
       "      <td>0.224277</td>\n",
       "      <td>1</td>\n",
       "    </tr>\n",
       "  </tbody>\n",
       "</table>\n",
       "</div>"
      ],
      "text/plain": [
       "    ccmt_patent_id  patent_id       cos  samecpc4d\n",
       "4          1187498   40387622  0.195809          1\n",
       "5          1187498    9232695  0.196449          1\n",
       "12         1236571    9935855  0.202074          1\n",
       "14         1236571   24695090  0.213555          1\n",
       "17         1236571   22832154  0.224277          1"
      ]
     },
     "execution_count": 18,
     "metadata": {},
     "output_type": "execute_result"
    }
   ],
   "source": [
    "## make sure matched patents has at least 1 common cpc 4 digit code\n",
    "df_matched['samecpc4d'] = (ccmtcpc4dmat.multiply(othercpc4dmat)).sum(axis=1).A1\n",
    "df_matched = df_matched.query('samecpc4d>0').copy()\n",
    "df_matched.head()"
   ]
  },
  {
   "cell_type": "markdown",
   "id": "56313eae",
   "metadata": {},
   "source": [
    "## identify least similar cpc within group"
   ]
  },
  {
   "cell_type": "code",
   "execution_count": null,
   "id": "856f8318",
   "metadata": {},
   "outputs": [
    {
     "data": {
      "text/plain": [
       "patent_id\n",
       "569328                                 [A61M1/32, A61M1/325]\n",
       "574675     [A61F7/02, A61F2007/0001, A61F2007/0242, A61F2...\n",
       "1187498    [C10K1/04, F25J3/0209, F25J3/0219, F25J3/0233,...\n",
       "1236482                 [G11B25/043, G11B33/14, G11B33/1433]\n",
       "1236560                                          [C23F11/18]\n",
       "Name: cpc, dtype: object"
      ]
     },
     "metadata": {},
     "output_type": "display_data"
    }
   ],
   "source": [
    "cpcnest = cpc1.groupby('patent_id')['cpc'].apply(list)\n",
    "cpcnest.head()"
   ]
  },
  {
   "cell_type": "code",
   "execution_count": null,
   "id": "2e664cf2",
   "metadata": {},
   "outputs": [
    {
     "data": {
      "text/html": [
       "<div>\n",
       "<style scoped>\n",
       "    .dataframe tbody tr th:only-of-type {\n",
       "        vertical-align: middle;\n",
       "    }\n",
       "\n",
       "    .dataframe tbody tr th {\n",
       "        vertical-align: top;\n",
       "    }\n",
       "\n",
       "    .dataframe thead th {\n",
       "        text-align: right;\n",
       "    }\n",
       "</style>\n",
       "<table border=\"1\" class=\"dataframe\">\n",
       "  <thead>\n",
       "    <tr style=\"text-align: right;\">\n",
       "      <th></th>\n",
       "      <th>ccmt_patent_id</th>\n",
       "      <th>patent_id</th>\n",
       "      <th>cos</th>\n",
       "      <th>samecpc4d</th>\n",
       "      <th>cpc</th>\n",
       "    </tr>\n",
       "  </thead>\n",
       "  <tbody>\n",
       "    <tr>\n",
       "      <th>0</th>\n",
       "      <td>1187498</td>\n",
       "      <td>40387622</td>\n",
       "      <td>0.195809</td>\n",
       "      <td>1</td>\n",
       "      <td>C10K1/04</td>\n",
       "    </tr>\n",
       "    <tr>\n",
       "      <th>1</th>\n",
       "      <td>1187498</td>\n",
       "      <td>40387622</td>\n",
       "      <td>0.195809</td>\n",
       "      <td>1</td>\n",
       "      <td>F25J3/0209</td>\n",
       "    </tr>\n",
       "    <tr>\n",
       "      <th>2</th>\n",
       "      <td>1187498</td>\n",
       "      <td>40387622</td>\n",
       "      <td>0.195809</td>\n",
       "      <td>1</td>\n",
       "      <td>F25J3/0219</td>\n",
       "    </tr>\n",
       "    <tr>\n",
       "      <th>3</th>\n",
       "      <td>1187498</td>\n",
       "      <td>40387622</td>\n",
       "      <td>0.195809</td>\n",
       "      <td>1</td>\n",
       "      <td>F25J3/0233</td>\n",
       "    </tr>\n",
       "    <tr>\n",
       "      <th>4</th>\n",
       "      <td>1187498</td>\n",
       "      <td>40387622</td>\n",
       "      <td>0.195809</td>\n",
       "      <td>1</td>\n",
       "      <td>F25J3/0238</td>\n",
       "    </tr>\n",
       "  </tbody>\n",
       "</table>\n",
       "</div>"
      ],
      "text/plain": [
       "   ccmt_patent_id  patent_id       cos  samecpc4d         cpc\n",
       "0         1187498   40387622  0.195809          1    C10K1/04\n",
       "1         1187498   40387622  0.195809          1  F25J3/0209\n",
       "2         1187498   40387622  0.195809          1  F25J3/0219\n",
       "3         1187498   40387622  0.195809          1  F25J3/0233\n",
       "4         1187498   40387622  0.195809          1  F25J3/0238"
      ]
     },
     "metadata": {},
     "output_type": "display_data"
    }
   ],
   "source": [
    "df = df_matched.merge(cpc1.rename(columns={\"patent_id\": \"ccmt_patent_id\"}))\n",
    "df.head()"
   ]
  },
  {
   "cell_type": "code",
   "execution_count": null,
   "id": "2bcb7b2b",
   "metadata": {},
   "outputs": [],
   "source": [
    "def leastsimilar(row):\n",
    "    return (cpc2vec[cpcnest.loc[row.patent_id]] @ cpc2vec[row.cpc]).max()"
   ]
  },
  {
   "cell_type": "code",
   "execution_count": null,
   "id": "fa337039",
   "metadata": {},
   "outputs": [
    {
     "data": {
      "application/vnd.jupyter.widget-view+json": {
       "model_id": "698f9aa3df9641039e33214b9081d428",
       "version_major": 2,
       "version_minor": 0
      },
      "text/plain": [
       "VBox(children=(HBox(children=(IntProgress(value=0, description='0.00%', max=474458), Label(value='0 / 474458')…"
      ]
     },
     "metadata": {},
     "output_type": "display_data"
    }
   ],
   "source": [
    "df['leastsimilar'] = df.parallel_apply(leastsimilar,axis=1)"
   ]
  },
  {
   "cell_type": "code",
   "execution_count": 41,
   "id": "8b4e604e-09a2-4128-9682-ebdcd37581d6",
   "metadata": {},
   "outputs": [],
   "source": [
    "df.to_parquet('data/green_proj_cosangle.parquet')"
   ]
  },
  {
   "cell_type": "code",
   "execution_count": 43,
   "id": "92381633-5e6e-478b-a063-10d1ba30aa85",
   "metadata": {},
   "outputs": [],
   "source": [
    "df_matched.to_parquet('data/matched_ccmt_other_filtered.parquet')"
   ]
  },
  {
   "cell_type": "code",
   "execution_count": 44,
   "id": "896b7965-ceb5-4ccb-beab-83aafb451b8f",
   "metadata": {},
   "outputs": [
    {
     "data": {
      "text/plain": [
       "(1457968, 4)"
      ]
     },
     "execution_count": 44,
     "metadata": {},
     "output_type": "execute_result"
    }
   ],
   "source": [
    "df_matched.shape"
   ]
  },
  {
   "cell_type": "code",
   "execution_count": null,
   "id": "f2ec1e7d-9c67-4cc3-b0c9-259004a18c7a",
   "metadata": {},
   "outputs": [],
   "source": []
  }
 ],
 "metadata": {
  "kernelspec": {
   "display_name": "Python 3 (ipykernel)",
   "language": "python",
   "name": "python3"
  },
  "language_info": {
   "codemirror_mode": {
    "name": "ipython",
    "version": 3
   },
   "file_extension": ".py",
   "mimetype": "text/x-python",
   "name": "python",
   "nbconvert_exporter": "python",
   "pygments_lexer": "ipython3",
   "version": "3.8.12"
  }
 },
 "nbformat": 4,
 "nbformat_minor": 5
}
