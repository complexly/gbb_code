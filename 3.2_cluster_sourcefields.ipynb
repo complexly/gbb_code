{
 "cells": [
  {
   "cell_type": "code",
   "execution_count": null,
   "metadata": {},
   "outputs": [],
   "source": [
    "# >>> Path configuration (auto-inserted) >>>\n",
    "from pathlib import Path\n",
    "import os\n",
    "\n",
    "PROJECT_ROOT = Path(os.getenv(\"GBB_PROJECT_ROOT\", \".\")).resolve()\n",
    "DATA = PROJECT_ROOT / \"data\"\n",
    "PATSTAT = PROJECT_ROOT / \"patstat\"\n",
    "PATTEXT = PROJECT_ROOT / \"patent_text\"\n",
    "SAMPLEDATA = PROJECT_ROOT / \"sampledata\"\n",
    "\n",
    "# Fallback to sampledata if primary paths not present\n",
    "if not PATSTAT.exists() and (SAMPLEDATA / \"patstat\").exists():\n",
    "    PATSTAT = SAMPLEDATA / \"patstat\"\n",
    "if not PATTEXT.exists() and (SAMPLEDATA / \"patent_text\").exists():\n",
    "    PATTEXT = SAMPLEDATA / \"patent_text\"\n",
    "if not DATA.exists() and (PROJECT_ROOT / \"data\").exists():\n",
    "    DATA = PROJECT_ROOT / \"data\"\n",
    "\n",
    "def P(*parts):\n",
    "    return str(Path(*parts))\n",
    "# <<< Path configuration (auto-inserted) <<<\n"
   ]
  },
  {
   "cell_type": "code",
   "execution_count": null,
   "id": "57a6cbce-543e-47f5-9040-562e0d245a51",
   "metadata": {},
   "outputs": [],
   "source": [
    "import pandas as pd\n",
    "import numpy as np\n",
    "import gensim\n",
    "import matplotlib.pyplot as plt\n",
    "import seaborn as sns\n",
    "import hdbscan\n",
    "import umap"
   ]
  },
  {
   "cell_type": "markdown",
   "id": "d7276536",
   "metadata": {},
   "source": [
    "## Extract source fields from over over-represented cpc"
   ]
  },
  {
   "cell_type": "code",
   "execution_count": 2,
   "id": "1d249066-6c90-44f2-b9c9-7bfa7fc95098",
   "metadata": {},
   "outputs": [
    {
     "data": {
      "text/html": [
       "<div>\n",
       "<style scoped>\n",
       "    .dataframe tbody tr th:only-of-type {\n",
       "        vertical-align: middle;\n",
       "    }\n",
       "\n",
       "    .dataframe tbody tr th {\n",
       "        vertical-align: top;\n",
       "    }\n",
       "\n",
       "    .dataframe thead th {\n",
       "        text-align: right;\n",
       "    }\n",
       "</style>\n",
       "<table border=\"1\" class=\"dataframe\">\n",
       "  <thead>\n",
       "    <tr style=\"text-align: right;\">\n",
       "      <th></th>\n",
       "      <th>ccmt_patent_id</th>\n",
       "      <th>patent_id</th>\n",
       "      <th>cos</th>\n",
       "      <th>samecpc4d</th>\n",
       "      <th>cpc</th>\n",
       "      <th>leastsimilar</th>\n",
       "      <th>leastwithin</th>\n",
       "      <th>weight</th>\n",
       "      <th>prob</th>\n",
       "    </tr>\n",
       "  </thead>\n",
       "  <tbody>\n",
       "    <tr>\n",
       "      <th>0</th>\n",
       "      <td>1187498</td>\n",
       "      <td>40387622</td>\n",
       "      <td>0.195809</td>\n",
       "      <td>1</td>\n",
       "      <td>C10K1/04</td>\n",
       "      <td>0.715514</td>\n",
       "      <td>0.853370</td>\n",
       "      <td>0.804191</td>\n",
       "      <td>0.284486</td>\n",
       "    </tr>\n",
       "    <tr>\n",
       "      <th>1</th>\n",
       "      <td>1187498</td>\n",
       "      <td>40387622</td>\n",
       "      <td>0.195809</td>\n",
       "      <td>1</td>\n",
       "      <td>F25J3/0209</td>\n",
       "      <td>0.907879</td>\n",
       "      <td>0.963588</td>\n",
       "      <td>0.804191</td>\n",
       "      <td>0.092121</td>\n",
       "    </tr>\n",
       "    <tr>\n",
       "      <th>2</th>\n",
       "      <td>1187498</td>\n",
       "      <td>40387622</td>\n",
       "      <td>0.195809</td>\n",
       "      <td>1</td>\n",
       "      <td>F25J3/0219</td>\n",
       "      <td>0.928604</td>\n",
       "      <td>0.973100</td>\n",
       "      <td>0.804191</td>\n",
       "      <td>0.071396</td>\n",
       "    </tr>\n",
       "    <tr>\n",
       "      <th>3</th>\n",
       "      <td>1187498</td>\n",
       "      <td>40387622</td>\n",
       "      <td>0.195809</td>\n",
       "      <td>1</td>\n",
       "      <td>F25J3/0233</td>\n",
       "      <td>0.940602</td>\n",
       "      <td>0.984210</td>\n",
       "      <td>0.804191</td>\n",
       "      <td>0.059398</td>\n",
       "    </tr>\n",
       "    <tr>\n",
       "      <th>4</th>\n",
       "      <td>1187498</td>\n",
       "      <td>40387622</td>\n",
       "      <td>0.195809</td>\n",
       "      <td>1</td>\n",
       "      <td>F25J3/0238</td>\n",
       "      <td>0.923259</td>\n",
       "      <td>0.974872</td>\n",
       "      <td>0.804191</td>\n",
       "      <td>0.076741</td>\n",
       "    </tr>\n",
       "  </tbody>\n",
       "</table>\n",
       "</div>"
      ],
      "text/plain": [
       "   ccmt_patent_id  patent_id       cos  samecpc4d         cpc  leastsimilar  \\\n",
       "0         1187498   40387622  0.195809          1    C10K1/04      0.715514   \n",
       "1         1187498   40387622  0.195809          1  F25J3/0209      0.907879   \n",
       "2         1187498   40387622  0.195809          1  F25J3/0219      0.928604   \n",
       "3         1187498   40387622  0.195809          1  F25J3/0233      0.940602   \n",
       "4         1187498   40387622  0.195809          1  F25J3/0238      0.923259   \n",
       "\n",
       "   leastwithin    weight      prob  \n",
       "0     0.853370  0.804191  0.284486  \n",
       "1     0.963588  0.804191  0.092121  \n",
       "2     0.973100  0.804191  0.071396  \n",
       "3     0.984210  0.804191  0.059398  \n",
       "4     0.974872  0.804191  0.076741  "
      ]
     },
     "execution_count": 2,
     "metadata": {},
     "output_type": "execute_result"
    }
   ],
   "source": [
    "df = pd.read_parquet(str(DATA / \"green_proj_cosangle.parquet\"))#,columns=['ccmt_patent_id','cos','cpc8d','leastwithin'])\ndf['weight'] = 1-df['cos']\ndf['prob'] = 1-df.leastsimilar\ndf.head()"
   ]
  },
  {
   "cell_type": "code",
   "execution_count": 3,
   "id": "87c697f3-ea15-4422-a69b-ca8f53844d2a",
   "metadata": {},
   "outputs": [
    {
     "data": {
      "text/plain": [
       "(11861440, 9)"
      ]
     },
     "execution_count": 3,
     "metadata": {},
     "output_type": "execute_result"
    }
   ],
   "source": [
    "df.shape"
   ]
  },
  {
   "cell_type": "code",
   "execution_count": null,
   "id": "85513b9c-ccd4-4d22-a649-9071e72847bc",
   "metadata": {},
   "outputs": [
    {
     "data": {
      "text/html": [
       "<div>\n",
       "<style scoped>\n",
       "    .dataframe tbody tr th:only-of-type {\n",
       "        vertical-align: middle;\n",
       "    }\n",
       "\n",
       "    .dataframe tbody tr th {\n",
       "        vertical-align: top;\n",
       "    }\n",
       "\n",
       "    .dataframe thead th {\n",
       "        text-align: right;\n",
       "    }\n",
       "</style>\n",
       "<table border=\"1\" class=\"dataframe\">\n",
       "  <thead>\n",
       "    <tr style=\"text-align: right;\">\n",
       "      <th></th>\n",
       "      <th>ccmt_patent_id</th>\n",
       "      <th>patent_id</th>\n",
       "      <th>prob_x</th>\n",
       "      <th>prob_y</th>\n",
       "      <th>thresh</th>\n",
       "    </tr>\n",
       "  </thead>\n",
       "  <tbody>\n",
       "    <tr>\n",
       "      <th>0</th>\n",
       "      <td>1187498</td>\n",
       "      <td>9232695</td>\n",
       "      <td>0.092724</td>\n",
       "      <td>0.137468</td>\n",
       "      <td>0.204584</td>\n",
       "    </tr>\n",
       "    <tr>\n",
       "      <th>1</th>\n",
       "      <td>1187498</td>\n",
       "      <td>40387622</td>\n",
       "      <td>0.070184</td>\n",
       "      <td>0.094831</td>\n",
       "      <td>0.131802</td>\n",
       "    </tr>\n",
       "    <tr>\n",
       "      <th>2</th>\n",
       "      <td>1236571</td>\n",
       "      <td>9935855</td>\n",
       "      <td>0.318573</td>\n",
       "      <td>0.362353</td>\n",
       "      <td>0.428023</td>\n",
       "    </tr>\n",
       "    <tr>\n",
       "      <th>3</th>\n",
       "      <td>1236571</td>\n",
       "      <td>17337750</td>\n",
       "      <td>0.325468</td>\n",
       "      <td>0.364993</td>\n",
       "      <td>0.424281</td>\n",
       "    </tr>\n",
       "    <tr>\n",
       "      <th>4</th>\n",
       "      <td>1236571</td>\n",
       "      <td>22832154</td>\n",
       "      <td>0.318065</td>\n",
       "      <td>0.419768</td>\n",
       "      <td>0.572322</td>\n",
       "    </tr>\n",
       "  </tbody>\n",
       "</table>\n",
       "</div>"
      ],
      "text/plain": [
       "   ccmt_patent_id  patent_id    prob_x    prob_y    thresh\n",
       "0         1187498    9232695  0.092724  0.137468  0.204584\n",
       "1         1187498   40387622  0.070184  0.094831  0.131802\n",
       "2         1236571    9935855  0.318573  0.362353  0.428023\n",
       "3         1236571   17337750  0.325468  0.364993  0.424281\n",
       "4         1236571   22832154  0.318065  0.419768  0.572322"
      ]
     },
     "execution_count": 4,
     "metadata": {},
     "output_type": "execute_result"
    }
   ],
   "source": [
    "## Use IQR outlier detection to identify significant presence \n",
    "df_iqr = (\n",
    "    df.groupby([\"ccmt_patent_id\", \"patent_id\"])[\"prob\"]\n",
    "    .quantile(0.25)\n",
    "    .reset_index()\n",
    "    .merge(\n",
    "        df.groupby([\"ccmt_patent_id\", \"patent_id\"])[\"prob\"].quantile(0.75).reset_index(),\n",
    "        on=['ccmt_patent_id','patent_id']\n",
    "    )\n",
    ")\n",
    "df_iqr['thresh'] = df_iqr.prob_y+1.5*(df_iqr.prob_y-df_iqr.prob_x)\n",
    "df_iqr.head()"
   ]
  },
  {
   "cell_type": "code",
   "execution_count": 5,
   "id": "12afc2d3-d318-40cf-83d5-6fa5b7d8c240",
   "metadata": {},
   "outputs": [
    {
     "data": {
      "text/html": [
       "<div>\n",
       "<style scoped>\n",
       "    .dataframe tbody tr th:only-of-type {\n",
       "        vertical-align: middle;\n",
       "    }\n",
       "\n",
       "    .dataframe tbody tr th {\n",
       "        vertical-align: top;\n",
       "    }\n",
       "\n",
       "    .dataframe thead th {\n",
       "        text-align: right;\n",
       "    }\n",
       "</style>\n",
       "<table border=\"1\" class=\"dataframe\">\n",
       "  <thead>\n",
       "    <tr style=\"text-align: right;\">\n",
       "      <th></th>\n",
       "      <th>ccmt_patent_id</th>\n",
       "      <th>patent_id</th>\n",
       "      <th>cos</th>\n",
       "      <th>samecpc4d</th>\n",
       "      <th>cpc</th>\n",
       "      <th>leastsimilar</th>\n",
       "      <th>leastwithin</th>\n",
       "      <th>weight</th>\n",
       "      <th>prob</th>\n",
       "      <th>thresh</th>\n",
       "      <th>prob2</th>\n",
       "    </tr>\n",
       "  </thead>\n",
       "  <tbody>\n",
       "    <tr>\n",
       "      <th>0</th>\n",
       "      <td>1187498</td>\n",
       "      <td>40387622</td>\n",
       "      <td>0.195809</td>\n",
       "      <td>1</td>\n",
       "      <td>C10K1/04</td>\n",
       "      <td>0.715514</td>\n",
       "      <td>0.853370</td>\n",
       "      <td>0.804191</td>\n",
       "      <td>0.284486</td>\n",
       "      <td>0.131802</td>\n",
       "      <td>0.000000</td>\n",
       "    </tr>\n",
       "    <tr>\n",
       "      <th>1</th>\n",
       "      <td>1187498</td>\n",
       "      <td>40387622</td>\n",
       "      <td>0.195809</td>\n",
       "      <td>1</td>\n",
       "      <td>F25J3/0209</td>\n",
       "      <td>0.907879</td>\n",
       "      <td>0.963588</td>\n",
       "      <td>0.804191</td>\n",
       "      <td>0.092121</td>\n",
       "      <td>0.131802</td>\n",
       "      <td>0.195809</td>\n",
       "    </tr>\n",
       "    <tr>\n",
       "      <th>2</th>\n",
       "      <td>1187498</td>\n",
       "      <td>40387622</td>\n",
       "      <td>0.195809</td>\n",
       "      <td>1</td>\n",
       "      <td>F25J3/0219</td>\n",
       "      <td>0.928604</td>\n",
       "      <td>0.973100</td>\n",
       "      <td>0.804191</td>\n",
       "      <td>0.071396</td>\n",
       "      <td>0.131802</td>\n",
       "      <td>0.195809</td>\n",
       "    </tr>\n",
       "    <tr>\n",
       "      <th>3</th>\n",
       "      <td>1187498</td>\n",
       "      <td>40387622</td>\n",
       "      <td>0.195809</td>\n",
       "      <td>1</td>\n",
       "      <td>F25J3/0233</td>\n",
       "      <td>0.940602</td>\n",
       "      <td>0.984210</td>\n",
       "      <td>0.804191</td>\n",
       "      <td>0.059398</td>\n",
       "      <td>0.131802</td>\n",
       "      <td>0.195809</td>\n",
       "    </tr>\n",
       "    <tr>\n",
       "      <th>4</th>\n",
       "      <td>1187498</td>\n",
       "      <td>40387622</td>\n",
       "      <td>0.195809</td>\n",
       "      <td>1</td>\n",
       "      <td>F25J3/0238</td>\n",
       "      <td>0.923259</td>\n",
       "      <td>0.974872</td>\n",
       "      <td>0.804191</td>\n",
       "      <td>0.076741</td>\n",
       "      <td>0.131802</td>\n",
       "      <td>0.195809</td>\n",
       "    </tr>\n",
       "  </tbody>\n",
       "</table>\n",
       "</div>"
      ],
      "text/plain": [
       "   ccmt_patent_id  patent_id       cos  samecpc4d         cpc  leastsimilar  \\\n",
       "0         1187498   40387622  0.195809          1    C10K1/04      0.715514   \n",
       "1         1187498   40387622  0.195809          1  F25J3/0209      0.907879   \n",
       "2         1187498   40387622  0.195809          1  F25J3/0219      0.928604   \n",
       "3         1187498   40387622  0.195809          1  F25J3/0233      0.940602   \n",
       "4         1187498   40387622  0.195809          1  F25J3/0238      0.923259   \n",
       "\n",
       "   leastwithin    weight      prob    thresh     prob2  \n",
       "0     0.853370  0.804191  0.284486  0.131802  0.000000  \n",
       "1     0.963588  0.804191  0.092121  0.131802  0.195809  \n",
       "2     0.973100  0.804191  0.071396  0.131802  0.195809  \n",
       "3     0.984210  0.804191  0.059398  0.131802  0.195809  \n",
       "4     0.974872  0.804191  0.076741  0.131802  0.195809  "
      ]
     },
     "execution_count": 5,
     "metadata": {},
     "output_type": "execute_result"
    }
   ],
   "source": [
    "df = df.merge(df_iqr[[\"ccmt_patent_id\", \"patent_id\",'thresh']])\n",
    "df['prob2'] = np.where(df.prob<=df.thresh,1-df.weight,0)\n",
    "df.head()"
   ]
  },
  {
   "cell_type": "code",
   "execution_count": null,
   "id": "dfdf6107-2fe8-4414-a36a-a7d444e3f850",
   "metadata": {},
   "outputs": [],
   "source": []
  },
  {
   "cell_type": "code",
   "execution_count": null,
   "id": "6de85496-c4bd-4daf-a1a9-cb80511e4a53",
   "metadata": {},
   "outputs": [
    {
     "data": {
      "text/html": [
       "<div>\n",
       "<style scoped>\n",
       "    .dataframe tbody tr th:only-of-type {\n",
       "        vertical-align: middle;\n",
       "    }\n",
       "\n",
       "    .dataframe tbody tr th {\n",
       "        vertical-align: top;\n",
       "    }\n",
       "\n",
       "    .dataframe thead th {\n",
       "        text-align: right;\n",
       "    }\n",
       "</style>\n",
       "<table border=\"1\" class=\"dataframe\">\n",
       "  <thead>\n",
       "    <tr style=\"text-align: right;\">\n",
       "      <th></th>\n",
       "      <th>ccmt_patent_id</th>\n",
       "      <th>cpc</th>\n",
       "      <th>prob</th>\n",
       "    </tr>\n",
       "  </thead>\n",
       "  <tbody>\n",
       "    <tr>\n",
       "      <th>0</th>\n",
       "      <td>1187498</td>\n",
       "      <td>C10K1/04</td>\n",
       "      <td>0.000000</td>\n",
       "    </tr>\n",
       "    <tr>\n",
       "      <th>1</th>\n",
       "      <td>1187498</td>\n",
       "      <td>F25J2210/12</td>\n",
       "      <td>0.196449</td>\n",
       "    </tr>\n",
       "    <tr>\n",
       "      <th>2</th>\n",
       "      <td>1187498</td>\n",
       "      <td>F25J2230/60</td>\n",
       "      <td>0.196449</td>\n",
       "    </tr>\n",
       "    <tr>\n",
       "      <th>3</th>\n",
       "      <td>1187498</td>\n",
       "      <td>F25J2270/12</td>\n",
       "      <td>0.196449</td>\n",
       "    </tr>\n",
       "    <tr>\n",
       "      <th>4</th>\n",
       "      <td>1187498</td>\n",
       "      <td>F25J2270/906</td>\n",
       "      <td>0.196449</td>\n",
       "    </tr>\n",
       "  </tbody>\n",
       "</table>\n",
       "</div>"
      ],
      "text/plain": [
       "   ccmt_patent_id           cpc      prob\n",
       "0         1187498      C10K1/04  0.000000\n",
       "1         1187498   F25J2210/12  0.196449\n",
       "2         1187498   F25J2230/60  0.196449\n",
       "3         1187498   F25J2270/12  0.196449\n",
       "4         1187498  F25J2270/906  0.196449"
      ]
     },
     "execution_count": 6,
     "metadata": {},
     "output_type": "execute_result"
    }
   ],
   "source": [
    "## aggregate from observed pairs\n",
    "df_agg = df.groupby([\"ccmt_patent_id\", \"cpc\"])['prob2'].max().reset_index().rename(columns={\"prob2\":'prob'})\n",
    "df_agg.head()"
   ]
  },
  {
   "cell_type": "code",
   "execution_count": null,
   "id": "6e28981c-a83e-4fea-abe8-48135747c58e",
   "metadata": {},
   "outputs": [
    {
     "data": {
      "text/html": [
       "<div>\n",
       "<style scoped>\n",
       "    .dataframe tbody tr th:only-of-type {\n",
       "        vertical-align: middle;\n",
       "    }\n",
       "\n",
       "    .dataframe tbody tr th {\n",
       "        vertical-align: top;\n",
       "    }\n",
       "\n",
       "    .dataframe thead th {\n",
       "        text-align: right;\n",
       "    }\n",
       "</style>\n",
       "<table border=\"1\" class=\"dataframe\">\n",
       "  <thead>\n",
       "    <tr style=\"text-align: right;\">\n",
       "      <th></th>\n",
       "      <th>cpc</th>\n",
       "      <th>clus</th>\n",
       "    </tr>\n",
       "  </thead>\n",
       "  <tbody>\n",
       "    <tr>\n",
       "      <th>0</th>\n",
       "      <td>A01B1/00</td>\n",
       "      <td>c10</td>\n",
       "    </tr>\n",
       "    <tr>\n",
       "      <th>8</th>\n",
       "      <td>A01B39/18</td>\n",
       "      <td>c10</td>\n",
       "    </tr>\n",
       "    <tr>\n",
       "      <th>9</th>\n",
       "      <td>A01B61/00</td>\n",
       "      <td>c10</td>\n",
       "    </tr>\n",
       "    <tr>\n",
       "      <th>11</th>\n",
       "      <td>A01B63/1013</td>\n",
       "      <td>c10</td>\n",
       "    </tr>\n",
       "    <tr>\n",
       "      <th>12</th>\n",
       "      <td>A01B69/008</td>\n",
       "      <td>c10</td>\n",
       "    </tr>\n",
       "  </tbody>\n",
       "</table>\n",
       "</div>"
      ],
      "text/plain": [
       "            cpc clus\n",
       "0      A01B1/00  c10\n",
       "8     A01B39/18  c10\n",
       "9     A01B61/00  c10\n",
       "11  A01B63/1013  c10\n",
       "12   A01B69/008  c10"
      ]
     },
     "execution_count": 13,
     "metadata": {},
     "output_type": "execute_result"
    }
   ],
   "source": [
    "## exclude GBB parts from source fields\ngreencpc = pd.read_parquet(str(DATA / \"clusangle_outlier_hdbscan2.parquet\"),columns=['cpc','clus']).query('clus!=\"c-1\"')\ngreencpc.head()"
   ]
  },
  {
   "cell_type": "code",
   "execution_count": null,
   "id": "93d001a6",
   "metadata": {},
   "outputs": [
    {
     "data": {
      "text/html": [
       "<div>\n",
       "<style scoped>\n",
       "    .dataframe tbody tr th:only-of-type {\n",
       "        vertical-align: middle;\n",
       "    }\n",
       "\n",
       "    .dataframe tbody tr th {\n",
       "        vertical-align: top;\n",
       "    }\n",
       "\n",
       "    .dataframe thead th {\n",
       "        text-align: right;\n",
       "    }\n",
       "</style>\n",
       "<table border=\"1\" class=\"dataframe\">\n",
       "  <thead>\n",
       "    <tr style=\"text-align: right;\">\n",
       "      <th></th>\n",
       "      <th>cpc</th>\n",
       "      <th>mean</th>\n",
       "      <th>max</th>\n",
       "      <th>sum</th>\n",
       "      <th>count</th>\n",
       "      <th>cpc1d</th>\n",
       "      <th>cpc4d</th>\n",
       "      <th>title</th>\n",
       "      <th>x</th>\n",
       "      <th>y</th>\n",
       "    </tr>\n",
       "  </thead>\n",
       "  <tbody>\n",
       "    <tr>\n",
       "      <th>0</th>\n",
       "      <td>A01B1/02</td>\n",
       "      <td>0.226079</td>\n",
       "      <td>0.226079</td>\n",
       "      <td>0.226079</td>\n",
       "      <td>1</td>\n",
       "      <td>A</td>\n",
       "      <td>A01B</td>\n",
       "      <td>Hand tools -Spades; Shovels</td>\n",
       "      <td>3.300158</td>\n",
       "      <td>-2.519649</td>\n",
       "    </tr>\n",
       "    <tr>\n",
       "      <th>1</th>\n",
       "      <td>A01B1/022</td>\n",
       "      <td>0.213669</td>\n",
       "      <td>0.223653</td>\n",
       "      <td>0.427339</td>\n",
       "      <td>2</td>\n",
       "      <td>A</td>\n",
       "      <td>A01B</td>\n",
       "      <td>Hand tools -Spades; Shovels -Collapsible; exte...</td>\n",
       "      <td>3.284784</td>\n",
       "      <td>-2.528554</td>\n",
       "    </tr>\n",
       "    <tr>\n",
       "      <th>2</th>\n",
       "      <td>A01B13/00</td>\n",
       "      <td>0.252779</td>\n",
       "      <td>0.255628</td>\n",
       "      <td>0.505558</td>\n",
       "      <td>2</td>\n",
       "      <td>A</td>\n",
       "      <td>A01B</td>\n",
       "      <td>Ploughs or like machines for special purposes ...</td>\n",
       "      <td>3.451846</td>\n",
       "      <td>-2.750587</td>\n",
       "    </tr>\n",
       "    <tr>\n",
       "      <th>3</th>\n",
       "      <td>A01B13/025</td>\n",
       "      <td>0.235640</td>\n",
       "      <td>0.235640</td>\n",
       "      <td>0.235640</td>\n",
       "      <td>1</td>\n",
       "      <td>A</td>\n",
       "      <td>A01B</td>\n",
       "      <td>Ploughs or like machines for special purposes ...</td>\n",
       "      <td>3.539223</td>\n",
       "      <td>-2.750748</td>\n",
       "    </tr>\n",
       "    <tr>\n",
       "      <th>4</th>\n",
       "      <td>A01B13/08</td>\n",
       "      <td>0.233413</td>\n",
       "      <td>0.240909</td>\n",
       "      <td>0.933653</td>\n",
       "      <td>4</td>\n",
       "      <td>A</td>\n",
       "      <td>A01B</td>\n",
       "      <td>Ploughs or like machines for special purposes ...</td>\n",
       "      <td>3.560780</td>\n",
       "      <td>-2.725041</td>\n",
       "    </tr>\n",
       "  </tbody>\n",
       "</table>\n",
       "</div>"
      ],
      "text/plain": [
       "          cpc      mean       max       sum  count cpc1d cpc4d  \\\n",
       "0    A01B1/02  0.226079  0.226079  0.226079      1     A  A01B   \n",
       "1   A01B1/022  0.213669  0.223653  0.427339      2     A  A01B   \n",
       "2   A01B13/00  0.252779  0.255628  0.505558      2     A  A01B   \n",
       "3  A01B13/025  0.235640  0.235640  0.235640      1     A  A01B   \n",
       "4   A01B13/08  0.233413  0.240909  0.933653      4     A  A01B   \n",
       "\n",
       "                                               title         x         y  \n",
       "0                       Hand tools -Spades; Shovels   3.300158 -2.519649  \n",
       "1  Hand tools -Spades; Shovels -Collapsible; exte...  3.284784 -2.528554  \n",
       "2  Ploughs or like machines for special purposes ...  3.451846 -2.750587  \n",
       "3  Ploughs or like machines for special purposes ...  3.539223 -2.750748  \n",
       "4  Ploughs or like machines for special purposes ...  3.560780 -2.725041  "
      ]
     },
     "metadata": {},
     "output_type": "display_data"
    }
   ],
   "source": [
    "## aggregate across patents\n",
    "df_cpc_agg = df_agg[df_agg.prob>0].groupby('cpc')['prob'].agg(['mean','max','sum','count']).reset_index().merge(layout)\n",
    "df_cpc_agg.head()"
   ]
  },
  {
   "cell_type": "code",
   "execution_count": 22,
   "id": "49f6c3d1-53d5-408c-a614-8161f3acdc83",
   "metadata": {},
   "outputs": [],
   "source": [
    "df_cpc_agg = df_cpc_agg[~df_cpc_agg.cpc.isin(greencpc.cpc)].copy()"
   ]
  },
  {
   "cell_type": "markdown",
   "id": "ed082792",
   "metadata": {},
   "source": [
    "### cluster frequently presented semantically similar cpc as source fields"
   ]
  },
  {
   "cell_type": "code",
   "execution_count": null,
   "id": "5012f9e9-9d37-4821-8e3f-023fc398ba7d",
   "metadata": {},
   "outputs": [
    {
     "data": {
      "text/plain": [
       "(253017, 50)"
      ]
     },
     "execution_count": 14,
     "metadata": {},
     "output_type": "execute_result"
    }
   ],
   "source": [
    "## load trained cpc2vec model\ncpc2vec = gensim.models.Word2Vec.load(str(DATA / \"external/cpc_sg_ns_dim50.model\")).wv\ncpc2vec.vectors.shape"
   ]
  },
  {
   "cell_type": "code",
   "execution_count": 15,
   "id": "351581d5-353a-48b1-9643-d1fc1367a194",
   "metadata": {},
   "outputs": [
    {
     "data": {
      "text/plain": [
       "(75636, 50)"
      ]
     },
     "execution_count": 15,
     "metadata": {},
     "output_type": "execute_result"
    }
   ],
   "source": [
    "ebd = cpc2vec[df_cpc_agg.cpc]\n",
    "ebd.shape"
   ]
  },
  {
   "cell_type": "code",
   "execution_count": null,
   "id": "74c9c341-193d-4b85-86eb-35d603f35ad0",
   "metadata": {},
   "outputs": [],
   "source": [
    "## Use UMAP to reduce dimension to 5 to simplify clustering following HDBSCAN guidance"
   ]
  },
  {
   "cell_type": "code",
   "execution_count": 17,
   "id": "c733387f-767a-4e51-8488-02257b758734",
   "metadata": {},
   "outputs": [],
   "source": [
    "mapper = umap.UMAP(metric=\"cosine\", n_neighbors=15,n_components=5)"
   ]
  },
  {
   "cell_type": "code",
   "execution_count": 18,
   "id": "892eb51c-7ad2-40fc-962a-973b71ca60de",
   "metadata": {},
   "outputs": [
    {
     "data": {
      "text/html": [
       "<style>#sk-container-id-1 {color: black;}#sk-container-id-1 pre{padding: 0;}#sk-container-id-1 div.sk-toggleable {background-color: white;}#sk-container-id-1 label.sk-toggleable__label {cursor: pointer;display: block;width: 100%;margin-bottom: 0;padding: 0.3em;box-sizing: border-box;text-align: center;}#sk-container-id-1 label.sk-toggleable__label-arrow:before {content: \"▸\";float: left;margin-right: 0.25em;color: #696969;}#sk-container-id-1 label.sk-toggleable__label-arrow:hover:before {color: black;}#sk-container-id-1 div.sk-estimator:hover label.sk-toggleable__label-arrow:before {color: black;}#sk-container-id-1 div.sk-toggleable__content {max-height: 0;max-width: 0;overflow: hidden;text-align: left;background-color: #f0f8ff;}#sk-container-id-1 div.sk-toggleable__content pre {margin: 0.2em;color: black;border-radius: 0.25em;background-color: #f0f8ff;}#sk-container-id-1 input.sk-toggleable__control:checked~div.sk-toggleable__content {max-height: 200px;max-width: 100%;overflow: auto;}#sk-container-id-1 input.sk-toggleable__control:checked~label.sk-toggleable__label-arrow:before {content: \"▾\";}#sk-container-id-1 div.sk-estimator input.sk-toggleable__control:checked~label.sk-toggleable__label {background-color: #d4ebff;}#sk-container-id-1 div.sk-label input.sk-toggleable__control:checked~label.sk-toggleable__label {background-color: #d4ebff;}#sk-container-id-1 input.sk-hidden--visually {border: 0;clip: rect(1px 1px 1px 1px);clip: rect(1px, 1px, 1px, 1px);height: 1px;margin: -1px;overflow: hidden;padding: 0;position: absolute;width: 1px;}#sk-container-id-1 div.sk-estimator {font-family: monospace;background-color: #f0f8ff;border: 1px dotted black;border-radius: 0.25em;box-sizing: border-box;margin-bottom: 0.5em;}#sk-container-id-1 div.sk-estimator:hover {background-color: #d4ebff;}#sk-container-id-1 div.sk-parallel-item::after {content: \"\";width: 100%;border-bottom: 1px solid gray;flex-grow: 1;}#sk-container-id-1 div.sk-label:hover label.sk-toggleable__label {background-color: #d4ebff;}#sk-container-id-1 div.sk-serial::before {content: \"\";position: absolute;border-left: 1px solid gray;box-sizing: border-box;top: 0;bottom: 0;left: 50%;z-index: 0;}#sk-container-id-1 div.sk-serial {display: flex;flex-direction: column;align-items: center;background-color: white;padding-right: 0.2em;padding-left: 0.2em;position: relative;}#sk-container-id-1 div.sk-item {position: relative;z-index: 1;}#sk-container-id-1 div.sk-parallel {display: flex;align-items: stretch;justify-content: center;background-color: white;position: relative;}#sk-container-id-1 div.sk-item::before, #sk-container-id-1 div.sk-parallel-item::before {content: \"\";position: absolute;border-left: 1px solid gray;box-sizing: border-box;top: 0;bottom: 0;left: 50%;z-index: -1;}#sk-container-id-1 div.sk-parallel-item {display: flex;flex-direction: column;z-index: 1;position: relative;background-color: white;}#sk-container-id-1 div.sk-parallel-item:first-child::after {align-self: flex-end;width: 50%;}#sk-container-id-1 div.sk-parallel-item:last-child::after {align-self: flex-start;width: 50%;}#sk-container-id-1 div.sk-parallel-item:only-child::after {width: 0;}#sk-container-id-1 div.sk-dashed-wrapped {border: 1px dashed gray;margin: 0 0.4em 0.5em 0.4em;box-sizing: border-box;padding-bottom: 0.4em;background-color: white;}#sk-container-id-1 div.sk-label label {font-family: monospace;font-weight: bold;display: inline-block;line-height: 1.2em;}#sk-container-id-1 div.sk-label-container {text-align: center;}#sk-container-id-1 div.sk-container {/* jupyter's `normalize.less` sets `[hidden] { display: none; }` but bootstrap.min.css set `[hidden] { display: none !important; }` so we also need the `!important` here to be able to override the default hidden behavior on the sphinx rendered scikit-learn.org. See: https://github.com/scikit-learn/scikit-learn/issues/21755 */display: inline-block !important;position: relative;}#sk-container-id-1 div.sk-text-repr-fallback {display: none;}</style><div id=\"sk-container-id-1\" class=\"sk-top-container\"><div class=\"sk-text-repr-fallback\"><pre>UMAP(angular_rp_forest=True, metric=&#x27;cosine&#x27;, n_components=5, tqdm_kwds={&#x27;bar_format&#x27;: &#x27;{desc}: {percentage:3.0f}%| {bar} {n_fmt}/{total_fmt} [{elapsed}]&#x27;, &#x27;desc&#x27;: &#x27;Epochs completed&#x27;, &#x27;disable&#x27;: True})</pre><b>In a Jupyter environment, please rerun this cell to show the HTML representation or trust the notebook. <br />On GitHub, the HTML representation is unable to render, please try loading this page with nbviewer.org.</b></div><div class=\"sk-container\" hidden><div class=\"sk-item\"><div class=\"sk-estimator sk-toggleable\"><input class=\"sk-toggleable__control sk-hidden--visually\" id=\"sk-estimator-id-1\" type=\"checkbox\" checked><label for=\"sk-estimator-id-1\" class=\"sk-toggleable__label sk-toggleable__label-arrow\">UMAP</label><div class=\"sk-toggleable__content\"><pre>UMAP(angular_rp_forest=True, metric=&#x27;cosine&#x27;, n_components=5, tqdm_kwds={&#x27;bar_format&#x27;: &#x27;{desc}: {percentage:3.0f}%| {bar} {n_fmt}/{total_fmt} [{elapsed}]&#x27;, &#x27;desc&#x27;: &#x27;Epochs completed&#x27;, &#x27;disable&#x27;: True})</pre></div></div></div></div></div>"
      ],
      "text/plain": [
       "UMAP(angular_rp_forest=True, metric='cosine', n_components=5, tqdm_kwds={'bar_format': '{desc}: {percentage:3.0f}%| {bar} {n_fmt}/{total_fmt} [{elapsed}]', 'desc': 'Epochs completed', 'disable': True})"
      ]
     },
     "execution_count": 18,
     "metadata": {},
     "output_type": "execute_result"
    }
   ],
   "source": [
    "mapper.fit(ebd)"
   ]
  },
  {
   "cell_type": "code",
   "execution_count": 19,
   "id": "873f3fbc-9039-4b32-9ee7-f1c29d143cb9",
   "metadata": {},
   "outputs": [
    {
     "data": {
      "text/plain": [
       "(75636, 5)"
      ]
     },
     "execution_count": 19,
     "metadata": {},
     "output_type": "execute_result"
    }
   ],
   "source": [
    "ebd2 = mapper.embedding_\n",
    "ebd2.shape"
   ]
  },
  {
   "cell_type": "code",
   "execution_count": null,
   "id": "c2e1b3a2-3f92-451e-89e4-c00dfc72d5f0",
   "metadata": {},
   "outputs": [],
   "source": []
  },
  {
   "cell_type": "code",
   "execution_count": null,
   "id": "f9dc7aec-6814-410d-a530-fde413c87634",
   "metadata": {},
   "outputs": [
    {
     "data": {
      "text/html": [
       "<style>#sk-container-id-2 {color: black;}#sk-container-id-2 pre{padding: 0;}#sk-container-id-2 div.sk-toggleable {background-color: white;}#sk-container-id-2 label.sk-toggleable__label {cursor: pointer;display: block;width: 100%;margin-bottom: 0;padding: 0.3em;box-sizing: border-box;text-align: center;}#sk-container-id-2 label.sk-toggleable__label-arrow:before {content: \"▸\";float: left;margin-right: 0.25em;color: #696969;}#sk-container-id-2 label.sk-toggleable__label-arrow:hover:before {color: black;}#sk-container-id-2 div.sk-estimator:hover label.sk-toggleable__label-arrow:before {color: black;}#sk-container-id-2 div.sk-toggleable__content {max-height: 0;max-width: 0;overflow: hidden;text-align: left;background-color: #f0f8ff;}#sk-container-id-2 div.sk-toggleable__content pre {margin: 0.2em;color: black;border-radius: 0.25em;background-color: #f0f8ff;}#sk-container-id-2 input.sk-toggleable__control:checked~div.sk-toggleable__content {max-height: 200px;max-width: 100%;overflow: auto;}#sk-container-id-2 input.sk-toggleable__control:checked~label.sk-toggleable__label-arrow:before {content: \"▾\";}#sk-container-id-2 div.sk-estimator input.sk-toggleable__control:checked~label.sk-toggleable__label {background-color: #d4ebff;}#sk-container-id-2 div.sk-label input.sk-toggleable__control:checked~label.sk-toggleable__label {background-color: #d4ebff;}#sk-container-id-2 input.sk-hidden--visually {border: 0;clip: rect(1px 1px 1px 1px);clip: rect(1px, 1px, 1px, 1px);height: 1px;margin: -1px;overflow: hidden;padding: 0;position: absolute;width: 1px;}#sk-container-id-2 div.sk-estimator {font-family: monospace;background-color: #f0f8ff;border: 1px dotted black;border-radius: 0.25em;box-sizing: border-box;margin-bottom: 0.5em;}#sk-container-id-2 div.sk-estimator:hover {background-color: #d4ebff;}#sk-container-id-2 div.sk-parallel-item::after {content: \"\";width: 100%;border-bottom: 1px solid gray;flex-grow: 1;}#sk-container-id-2 div.sk-label:hover label.sk-toggleable__label {background-color: #d4ebff;}#sk-container-id-2 div.sk-serial::before {content: \"\";position: absolute;border-left: 1px solid gray;box-sizing: border-box;top: 0;bottom: 0;left: 50%;z-index: 0;}#sk-container-id-2 div.sk-serial {display: flex;flex-direction: column;align-items: center;background-color: white;padding-right: 0.2em;padding-left: 0.2em;position: relative;}#sk-container-id-2 div.sk-item {position: relative;z-index: 1;}#sk-container-id-2 div.sk-parallel {display: flex;align-items: stretch;justify-content: center;background-color: white;position: relative;}#sk-container-id-2 div.sk-item::before, #sk-container-id-2 div.sk-parallel-item::before {content: \"\";position: absolute;border-left: 1px solid gray;box-sizing: border-box;top: 0;bottom: 0;left: 50%;z-index: -1;}#sk-container-id-2 div.sk-parallel-item {display: flex;flex-direction: column;z-index: 1;position: relative;background-color: white;}#sk-container-id-2 div.sk-parallel-item:first-child::after {align-self: flex-end;width: 50%;}#sk-container-id-2 div.sk-parallel-item:last-child::after {align-self: flex-start;width: 50%;}#sk-container-id-2 div.sk-parallel-item:only-child::after {width: 0;}#sk-container-id-2 div.sk-dashed-wrapped {border: 1px dashed gray;margin: 0 0.4em 0.5em 0.4em;box-sizing: border-box;padding-bottom: 0.4em;background-color: white;}#sk-container-id-2 div.sk-label label {font-family: monospace;font-weight: bold;display: inline-block;line-height: 1.2em;}#sk-container-id-2 div.sk-label-container {text-align: center;}#sk-container-id-2 div.sk-container {/* jupyter's `normalize.less` sets `[hidden] { display: none; }` but bootstrap.min.css set `[hidden] { display: none !important; }` so we also need the `!important` here to be able to override the default hidden behavior on the sphinx rendered scikit-learn.org. See: https://github.com/scikit-learn/scikit-learn/issues/21755 */display: inline-block !important;position: relative;}#sk-container-id-2 div.sk-text-repr-fallback {display: none;}</style><div id=\"sk-container-id-2\" class=\"sk-top-container\"><div class=\"sk-text-repr-fallback\"><pre>HDBSCAN(min_cluster_size=100)</pre><b>In a Jupyter environment, please rerun this cell to show the HTML representation or trust the notebook. <br />On GitHub, the HTML representation is unable to render, please try loading this page with nbviewer.org.</b></div><div class=\"sk-container\" hidden><div class=\"sk-item\"><div class=\"sk-estimator sk-toggleable\"><input class=\"sk-toggleable__control sk-hidden--visually\" id=\"sk-estimator-id-2\" type=\"checkbox\" checked><label for=\"sk-estimator-id-2\" class=\"sk-toggleable__label sk-toggleable__label-arrow\">HDBSCAN</label><div class=\"sk-toggleable__content\"><pre>HDBSCAN(min_cluster_size=100)</pre></div></div></div></div></div>"
      ],
      "text/plain": [
       "HDBSCAN(min_cluster_size=100)"
      ]
     },
     "execution_count": 20,
     "metadata": {},
     "output_type": "execute_result"
    }
   ],
   "source": [
    "## Use hdbscan to cluster the frequently apprearing codes\n",
    "clusterer = hdbscan.HDBSCAN(min_cluster_size=100)\n",
    "clusterer.fit(ebd2)"
   ]
  },
  {
   "cell_type": "code",
   "execution_count": 23,
   "id": "82c91f6f-0188-4768-8369-ace2d12051d0",
   "metadata": {},
   "outputs": [
    {
     "data": {
      "text/plain": [
       "194"
      ]
     },
     "execution_count": 23,
     "metadata": {},
     "output_type": "execute_result"
    }
   ],
   "source": [
    "df_cpc_agg['clus'] = clusterer.labels_\n",
    "df_cpc_agg['clus'] = 's'+df_cpc_agg['clus'].astype(str)\n",
    "df_cpc_agg['clus'].nunique()"
   ]
  },
  {
   "cell_type": "code",
   "execution_count": 42,
   "id": "6204dff1-5899-41e0-814c-3ef97c40ada0",
   "metadata": {},
   "outputs": [],
   "source": [
    "df_cpc_agg.to_parquet(str(DATA / \"clusangle_outlier_hdbscan2_src2.parquet\"))"
   ]
  },
  {
   "cell_type": "code",
   "execution_count": null,
   "id": "4c1a3766-4994-4f29-ac21-bdd77a881366",
   "metadata": {},
   "outputs": [],
   "source": []
  },
  {
   "cell_type": "code",
   "execution_count": null,
   "id": "7db90c13-a52d-432b-8d4a-f2b91faae73e",
   "metadata": {},
   "outputs": [],
   "source": []
  },
  {
   "cell_type": "code",
   "execution_count": null,
   "id": "d3138c5c-cd0c-4497-88ab-2d4b16fe93bc",
   "metadata": {},
   "outputs": [],
   "source": []
  },
  {
   "cell_type": "code",
   "execution_count": null,
   "id": "7d201b05-da4e-4972-8f89-67d6bb2c1cb4",
   "metadata": {},
   "outputs": [],
   "source": []
  }
 ],
 "metadata": {
  "kernelspec": {
   "display_name": "Python 3 (ipykernel)",
   "language": "python",
   "name": "python3"
  },
  "language_info": {
   "codemirror_mode": {
    "name": "ipython",
    "version": 3
   },
   "file_extension": ".py",
   "mimetype": "text/x-python",
   "name": "python",
   "nbconvert_exporter": "python",
   "pygments_lexer": "ipython3",
   "version": "3.8.12"
  }
 },
 "nbformat": 4,
 "nbformat_minor": 5
}