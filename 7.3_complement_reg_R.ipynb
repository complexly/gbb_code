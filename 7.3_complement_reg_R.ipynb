{
 "cells": [
  {
   "cell_type": "code",
   "execution_count": null,
   "metadata": {},
   "outputs": [],
   "source": [
    "# >>> Path configuration (auto-inserted) >>>\n",
    "PROJECT_ROOT <- normalizePath(Sys.getenv(\"GBB_PROJECT_ROOT\", \".\"), mustWork = FALSE)\n",
    "DATA <- file.path(PROJECT_ROOT, \"data\")\n",
    "PATSTAT <- file.path(PROJECT_ROOT, \"patstat\")\n",
    "PATTEXT <- file.path(PROJECT_ROOT, \"patent_text\")\n",
    "SAMPLEDATA <- file.path(PROJECT_ROOT, \"sampledata\")\n",
    "\n",
    "if (!dir.exists(PATSTAT) && dir.exists(file.path(SAMPLEDATA, \"patstat\"))) {\n",
    "  PATSTAT <- file.path(SAMPLEDATA, \"patstat\")\n",
    "}\n",
    "if (!dir.exists(PATTEXT) && dir.exists(file.path(SAMPLEDATA, \"patent_text\"))) {\n",
    "  PATTEXT <- file.path(SAMPLEDATA, \"patent_text\")\n",
    "}\n",
    "if (!dir.exists(DATA) && dir.exists(file.path(PROJECT_ROOT, \"data\"))) {\n",
    "  DATA <- file.path(PROJECT_ROOT, \"data\")\n",
    "}\n",
    "# <<< Path configuration (auto-inserted) <<<\n"
   ]
  },
  {
   "cell_type": "code",
   "execution_count": null,
   "id": "bf7d9ae0-1daf-4b04-952c-1cc8ffe5a47c",
   "metadata": {
    "vscode": {
     "languageId": "r"
    }
   },
   "outputs": [],
   "source": [
    "library(tidyverse)\n",
    "library(fixest)\n",
    "library(arrow)"
   ]
  },
  {
   "cell_type": "code",
   "execution_count": null,
   "id": "4e4cc601-cb62-4c73-9248-65be244666ae",
   "metadata": {
    "vscode": {
     "languageId": "r"
    }
   },
   "outputs": [],
   "source": [
    "copatdf <- read_parquet('complement_reg.parquet')\n",
    "copatdf |> head()"
   ]
  },
  {
   "cell_type": "code",
   "execution_count": null,
   "id": "4a449b6a-f6ac-43c9-ae60-292dd95b37f4",
   "metadata": {
    "vscode": {
     "languageId": "r"
    }
   },
   "outputs": [],
   "source": [
    "mod01 = feols(copatgreen ~ log(n_gbb+1),cluster = ~supply+demand,data= copatdf)\n",
    "print(mod01)"
   ]
  },
  {
   "cell_type": "code",
   "execution_count": null,
   "id": "e5425eb5-26b5-4904-9134-73705d28a915",
   "metadata": {
    "vscode": {
     "languageId": "r"
    }
   },
   "outputs": [],
   "source": [
    "mod11 = feols(copatgreen ~ log(n_gbb+1)+samecntry,cluster = ~supply+demand,data= copatdf)\n",
    "print(mod11)"
   ]
  },
  {
   "cell_type": "code",
   "execution_count": null,
   "id": "dabf3ba8-7af9-471d-b751-164e24bd56ec",
   "metadata": {
    "vscode": {
     "languageId": "r"
    }
   },
   "outputs": [],
   "source": [
    "mod21 = feols(copatgreen ~ log(n_gbb+1)+samecntry+log_supply_totalpat+log_demand_totalpat,cluster = ~supply+demand,data= copatdf)\n",
    "print(mod21)"
   ]
  },
  {
   "cell_type": "code",
   "execution_count": null,
   "id": "21dba238-5d40-4f71-b3d7-9a8e925e4460",
   "metadata": {
    "vscode": {
     "languageId": "r"
    }
   },
   "outputs": [],
   "source": [
    "mod31 = feols(copatgreen ~ log(n_gbb+1)+samecntry|supply+demand,cluster = ~supply+demand,data= copatdf)\n",
    "print(mod31)"
   ]
  },
  {
   "cell_type": "code",
   "execution_count": null,
   "id": "e7059953-c7c9-427c-ab04-9ec0bed30dc0",
   "metadata": {
    "vscode": {
     "languageId": "r"
    }
   },
   "outputs": [],
   "source": [
    "etable(mod01,mod11,mod21,mod31)"
   ]
  },
  {
   "cell_type": "code",
   "execution_count": null,
   "id": "e019d793-403b-4b83-bc9b-472442d5c438",
   "metadata": {
    "vscode": {
     "languageId": "r"
    }
   },
   "outputs": [],
   "source": []
  }
 ],
 "metadata": {
  "kernelspec": {
   "display_name": "R",
   "language": "R",
   "name": "ir"
  },
  "language_info": {
   "codemirror_mode": "r",
   "file_extension": ".r",
   "mimetype": "text/x-r-source",
   "name": "R",
   "pygments_lexer": "r",
   "version": "4.4.3"
  }
 },
 "nbformat": 4,
 "nbformat_minor": 5
}