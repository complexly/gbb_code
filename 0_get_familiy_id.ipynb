{
 "cells": [
  {
   "cell_type": "code",
   "execution_count": 1,
   "id": "e1c78d16-fc1d-41eb-986b-deda740128c3",
   "metadata": {},
   "outputs": [],
   "source": [
    "import pandas as pd\n",
    "import numpy as np\n",
    "pd.set_option(\"string_storage\", \"pyarrow\")"
   ]
  },
  {
   "cell_type": "markdown",
   "id": "4ce996b5",
   "metadata": {},
   "source": [
    "## Load patstat to use patent family id in patentsview"
   ]
  },
  {
   "cell_type": "code",
   "execution_count": null,
   "id": "c5a313cd-fe0e-45e1-a08e-e93c7e81416b",
   "metadata": {},
   "outputs": [
    {
     "data": {
      "text/html": [
       "<div>\n",
       "<style scoped>\n",
       "    .dataframe tbody tr th:only-of-type {\n",
       "        vertical-align: middle;\n",
       "    }\n",
       "\n",
       "    .dataframe tbody tr th {\n",
       "        vertical-align: top;\n",
       "    }\n",
       "\n",
       "    .dataframe thead th {\n",
       "        text-align: right;\n",
       "    }\n",
       "</style>\n",
       "<table border=\"1\" class=\"dataframe\">\n",
       "  <thead>\n",
       "    <tr style=\"text-align: right;\">\n",
       "      <th></th>\n",
       "      <th>appln_id</th>\n",
       "      <th>docdb_family_id</th>\n",
       "    </tr>\n",
       "  </thead>\n",
       "  <tbody>\n",
       "    <tr>\n",
       "      <th>0</th>\n",
       "      <td>0</td>\n",
       "      <td>0</td>\n",
       "    </tr>\n",
       "    <tr>\n",
       "      <th>1</th>\n",
       "      <td>1</td>\n",
       "      <td>8554171</td>\n",
       "    </tr>\n",
       "    <tr>\n",
       "      <th>2</th>\n",
       "      <td>2</td>\n",
       "      <td>27517085</td>\n",
       "    </tr>\n",
       "    <tr>\n",
       "      <th>3</th>\n",
       "      <td>3</td>\n",
       "      <td>7915918</td>\n",
       "    </tr>\n",
       "    <tr>\n",
       "      <th>4</th>\n",
       "      <td>4</td>\n",
       "      <td>22889365</td>\n",
       "    </tr>\n",
       "  </tbody>\n",
       "</table>\n",
       "</div>"
      ],
      "text/plain": [
       "   appln_id  docdb_family_id\n",
       "0         0                0\n",
       "1         1          8554171\n",
       "2         2         27517085\n",
       "3         3          7915918\n",
       "4         4         22889365"
      ]
     },
     "execution_count": 2,
     "metadata": {},
     "output_type": "execute_result"
    }
   ],
   "source": [
    "patstat = pd.read_parquet('../patstat/tls201.parquet', columns=['appln_id','docdb_family_id'])\n",
    "patstat.head()"
   ]
  },
  {
   "cell_type": "code",
   "execution_count": 3,
   "id": "ed5f28aa-93ee-4be6-b709-7be2ca6c86d8",
   "metadata": {},
   "outputs": [
    {
     "data": {
      "text/plain": [
       "appln_id           Int64\n",
       "docdb_family_id    Int64\n",
       "dtype: object"
      ]
     },
     "execution_count": 3,
     "metadata": {},
     "output_type": "execute_result"
    }
   ],
   "source": [
    "patstat= patstat.astype('Int64')\n",
    "patstat.dtypes"
   ]
  },
  {
   "cell_type": "code",
   "execution_count": null,
   "id": "86ddac47-ebac-40ed-966a-d5d7dd9b6697",
   "metadata": {},
   "outputs": [
    {
     "data": {
      "text/html": [
       "<div>\n",
       "<style scoped>\n",
       "    .dataframe tbody tr th:only-of-type {\n",
       "        vertical-align: middle;\n",
       "    }\n",
       "\n",
       "    .dataframe tbody tr th {\n",
       "        vertical-align: top;\n",
       "    }\n",
       "\n",
       "    .dataframe thead th {\n",
       "        text-align: right;\n",
       "    }\n",
       "</style>\n",
       "<table border=\"1\" class=\"dataframe\">\n",
       "  <thead>\n",
       "    <tr style=\"text-align: right;\">\n",
       "      <th></th>\n",
       "      <th>patent_id</th>\n",
       "      <th>appln_id</th>\n",
       "    </tr>\n",
       "  </thead>\n",
       "  <tbody>\n",
       "    <tr>\n",
       "      <th>0</th>\n",
       "      <td>D584876</td>\n",
       "      <td>55754619</td>\n",
       "    </tr>\n",
       "    <tr>\n",
       "      <th>1</th>\n",
       "      <td>D584877</td>\n",
       "      <td>55754620</td>\n",
       "    </tr>\n",
       "    <tr>\n",
       "      <th>2</th>\n",
       "      <td>D584878</td>\n",
       "      <td>55754621</td>\n",
       "    </tr>\n",
       "    <tr>\n",
       "      <th>3</th>\n",
       "      <td>D584879</td>\n",
       "      <td>55754622</td>\n",
       "    </tr>\n",
       "    <tr>\n",
       "      <th>4</th>\n",
       "      <td>D584880</td>\n",
       "      <td>55754623</td>\n",
       "    </tr>\n",
       "  </tbody>\n",
       "</table>\n",
       "</div>"
      ],
      "text/plain": [
       "  patent_id  appln_id\n",
       "0   D584876  55754619\n",
       "1   D584877  55754620\n",
       "2   D584878  55754621\n",
       "3   D584879  55754622\n",
       "4   D584880  55754623"
      ]
     },
     "execution_count": 4,
     "metadata": {},
     "output_type": "execute_result"
    }
   ],
   "source": [
    "## Use concordance at https://rawpatentdata.blogspot.com/2019/07/patstat-patentsview-concordance-update.html for the match\n",
    "pv2patstat = pd.read_csv(\n",
    "    \"patentid_applnid.txt\",\n",
    "    sep=\"\\t\",\n",
    "    engine=\"pyarrow\",\n",
    "    dtype={\"patent_id\": \"string[pyarrow]\", \"APPLN_ID\": 'Int64'},\n",
    ")\n",
    "pv2patstat.columns=['patent_id','appln_id']\n",
    "pv2patstat.head()"
   ]
  },
  {
   "cell_type": "code",
   "execution_count": null,
   "id": "395830c3-e36e-40aa-af22-ee056c8aa8fd",
   "metadata": {},
   "outputs": [
    {
     "data": {
      "text/html": [
       "<div>\n",
       "<style scoped>\n",
       "    .dataframe tbody tr th:only-of-type {\n",
       "        vertical-align: middle;\n",
       "    }\n",
       "\n",
       "    .dataframe tbody tr th {\n",
       "        vertical-align: top;\n",
       "    }\n",
       "\n",
       "    .dataframe thead th {\n",
       "        text-align: right;\n",
       "    }\n",
       "</style>\n",
       "<table border=\"1\" class=\"dataframe\">\n",
       "  <thead>\n",
       "    <tr style=\"text-align: right;\">\n",
       "      <th></th>\n",
       "      <th>patent_id</th>\n",
       "    </tr>\n",
       "  </thead>\n",
       "  <tbody>\n",
       "    <tr>\n",
       "      <th>8436242</th>\n",
       "      <td>T998013</td>\n",
       "    </tr>\n",
       "    <tr>\n",
       "      <th>8436243</th>\n",
       "      <td>T998014</td>\n",
       "    </tr>\n",
       "    <tr>\n",
       "      <th>8436244</th>\n",
       "      <td>T999001</td>\n",
       "    </tr>\n",
       "    <tr>\n",
       "      <th>8436245</th>\n",
       "      <td>T999002</td>\n",
       "    </tr>\n",
       "    <tr>\n",
       "      <th>8436246</th>\n",
       "      <td>T999003</td>\n",
       "    </tr>\n",
       "  </tbody>\n",
       "</table>\n",
       "</div>"
      ],
      "text/plain": [
       "        patent_id\n",
       "8436242   T998013\n",
       "8436243   T998014\n",
       "8436244   T999001\n",
       "8436245   T999002\n",
       "8436246   T999003"
      ]
     },
     "execution_count": 5,
     "metadata": {},
     "output_type": "execute_result"
    }
   ],
   "source": [
    "patvecdf = pd.read_parquet('../patent_text/g_patent_title_abstract.parquet',columns=['patent_id'])\n",
    "patvecdf.tail()"
   ]
  },
  {
   "cell_type": "code",
   "execution_count": 6,
   "id": "1accafd2-fa17-4eae-bbc4-bfd1498224c2",
   "metadata": {},
   "outputs": [
    {
     "data": {
      "text/plain": [
       "(8436247, 1)"
      ]
     },
     "execution_count": 6,
     "metadata": {},
     "output_type": "execute_result"
    }
   ],
   "source": [
    "patvecdf.shape"
   ]
  },
  {
   "cell_type": "code",
   "execution_count": 8,
   "id": "666e9528-4bad-4e9d-a70d-0ffbd8584a24",
   "metadata": {},
   "outputs": [
    {
     "data": {
      "text/html": [
       "<div>\n",
       "<style scoped>\n",
       "    .dataframe tbody tr th:only-of-type {\n",
       "        vertical-align: middle;\n",
       "    }\n",
       "\n",
       "    .dataframe tbody tr th {\n",
       "        vertical-align: top;\n",
       "    }\n",
       "\n",
       "    .dataframe thead th {\n",
       "        text-align: right;\n",
       "    }\n",
       "</style>\n",
       "<table border=\"1\" class=\"dataframe\">\n",
       "  <thead>\n",
       "    <tr style=\"text-align: right;\">\n",
       "      <th></th>\n",
       "      <th>patent_id</th>\n",
       "      <th>appln_id</th>\n",
       "    </tr>\n",
       "  </thead>\n",
       "  <tbody>\n",
       "    <tr>\n",
       "      <th>8436242</th>\n",
       "      <td>T998013</td>\n",
       "      <td>47886869</td>\n",
       "    </tr>\n",
       "    <tr>\n",
       "      <th>8436243</th>\n",
       "      <td>T998014</td>\n",
       "      <td>45929246</td>\n",
       "    </tr>\n",
       "    <tr>\n",
       "      <th>8436244</th>\n",
       "      <td>T999001</td>\n",
       "      <td>46589044</td>\n",
       "    </tr>\n",
       "    <tr>\n",
       "      <th>8436245</th>\n",
       "      <td>T999002</td>\n",
       "      <td>46955122</td>\n",
       "    </tr>\n",
       "    <tr>\n",
       "      <th>8436246</th>\n",
       "      <td>T999003</td>\n",
       "      <td>47470096</td>\n",
       "    </tr>\n",
       "  </tbody>\n",
       "</table>\n",
       "</div>"
      ],
      "text/plain": [
       "        patent_id  appln_id\n",
       "8436242   T998013  47886869\n",
       "8436243   T998014  45929246\n",
       "8436244   T999001  46589044\n",
       "8436245   T999002  46955122\n",
       "8436246   T999003  47470096"
      ]
     },
     "execution_count": 8,
     "metadata": {},
     "output_type": "execute_result"
    }
   ],
   "source": [
    "patvecdf = patvecdf.merge(pv2patstat, how='left')\n",
    "patvecdf.tail()"
   ]
  },
  {
   "cell_type": "code",
   "execution_count": 9,
   "id": "52130198-feb9-4d20-86f4-a252bfce9f3a",
   "metadata": {},
   "outputs": [
    {
     "data": {
      "text/html": [
       "<div>\n",
       "<style scoped>\n",
       "    .dataframe tbody tr th:only-of-type {\n",
       "        vertical-align: middle;\n",
       "    }\n",
       "\n",
       "    .dataframe tbody tr th {\n",
       "        vertical-align: top;\n",
       "    }\n",
       "\n",
       "    .dataframe thead th {\n",
       "        text-align: right;\n",
       "    }\n",
       "</style>\n",
       "<table border=\"1\" class=\"dataframe\">\n",
       "  <thead>\n",
       "    <tr style=\"text-align: right;\">\n",
       "      <th></th>\n",
       "      <th>patent_id</th>\n",
       "      <th>appln_id</th>\n",
       "      <th>docdb_family_id</th>\n",
       "    </tr>\n",
       "  </thead>\n",
       "  <tbody>\n",
       "    <tr>\n",
       "      <th>0</th>\n",
       "      <td>10000000</td>\n",
       "      <td>469404924</td>\n",
       "      <td>55456961</td>\n",
       "    </tr>\n",
       "    <tr>\n",
       "      <th>1</th>\n",
       "      <td>10000001</td>\n",
       "      <td>457553560</td>\n",
       "      <td>56163195</td>\n",
       "    </tr>\n",
       "    <tr>\n",
       "      <th>2</th>\n",
       "      <td>10000002</td>\n",
       "      <td>471123001</td>\n",
       "      <td>53493659</td>\n",
       "    </tr>\n",
       "    <tr>\n",
       "      <th>3</th>\n",
       "      <td>10000003</td>\n",
       "      <td>445333879</td>\n",
       "      <td>48045399</td>\n",
       "    </tr>\n",
       "    <tr>\n",
       "      <th>4</th>\n",
       "      <td>10000004</td>\n",
       "      <td>458352386</td>\n",
       "      <td>56234461</td>\n",
       "    </tr>\n",
       "  </tbody>\n",
       "</table>\n",
       "</div>"
      ],
      "text/plain": [
       "  patent_id   appln_id  docdb_family_id\n",
       "0  10000000  469404924         55456961\n",
       "1  10000001  457553560         56163195\n",
       "2  10000002  471123001         53493659\n",
       "3  10000003  445333879         48045399\n",
       "4  10000004  458352386         56234461"
      ]
     },
     "execution_count": 9,
     "metadata": {},
     "output_type": "execute_result"
    }
   ],
   "source": [
    "patvecdf = patvecdf.merge(patstat, how='left')\n",
    "patvecdf.head()"
   ]
  },
  {
   "cell_type": "code",
   "execution_count": 10,
   "id": "8447ebd3-eaed-4414-9872-6fb5222c638a",
   "metadata": {},
   "outputs": [
    {
     "data": {
      "text/plain": [
       "(8436247, 3)"
      ]
     },
     "execution_count": 10,
     "metadata": {},
     "output_type": "execute_result"
    }
   ],
   "source": [
    "patvecdf.shape"
   ]
  },
  {
   "cell_type": "code",
   "execution_count": 11,
   "id": "69536b4a-1e7f-49e3-a7d7-f2230d62858b",
   "metadata": {},
   "outputs": [
    {
     "data": {
      "text/plain": [
       "1814480"
      ]
     },
     "execution_count": 11,
     "metadata": {},
     "output_type": "execute_result"
    }
   ],
   "source": [
    "patvecdf.docdb_family_id.isna().sum()"
   ]
  },
  {
   "cell_type": "code",
   "execution_count": 12,
   "id": "cd006146-5cdf-4756-b2d1-4d43768ab6c4",
   "metadata": {},
   "outputs": [
    {
     "data": {
      "text/plain": [
       "patent_id          8436247\n",
       "appln_id           6621618\n",
       "docdb_family_id    5734067\n",
       "dtype: int64"
      ]
     },
     "execution_count": 12,
     "metadata": {},
     "output_type": "execute_result"
    }
   ],
   "source": [
    "patvecdf.nunique()"
   ]
  },
  {
   "cell_type": "code",
   "execution_count": 13,
   "id": "907c7fbc-48e5-4399-ad49-f82b78c3b555",
   "metadata": {},
   "outputs": [],
   "source": [
    "patvecdf.to_parquet('data/patvecdf.parquet',index=False)"
   ]
  },
  {
   "cell_type": "code",
   "execution_count": null,
   "id": "5b659c93-3959-43e3-8997-95c36d7d9fb9",
   "metadata": {},
   "outputs": [],
   "source": []
  }
 ],
 "metadata": {
  "kernelspec": {
   "display_name": "Python 3 (ipykernel)",
   "language": "python",
   "name": "python3"
  },
  "language_info": {
   "codemirror_mode": {
    "name": "ipython",
    "version": 3
   },
   "file_extension": ".py",
   "mimetype": "text/x-python",
   "name": "python",
   "nbconvert_exporter": "python",
   "pygments_lexer": "ipython3",
   "version": "3.8.12"
  }
 },
 "nbformat": 4,
 "nbformat_minor": 5
}
