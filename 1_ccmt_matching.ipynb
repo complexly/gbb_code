{
 "cells": [
  {
   "cell_type": "code",
   "execution_count": 1,
   "id": "1908183d-f2fc-459e-b9f2-db69c968f06e",
   "metadata": {},
   "outputs": [],
   "source": [
    "import pandas as pd\n",
    "import numpy as np"
   ]
  },
  {
   "cell_type": "markdown",
   "id": "5c9d6f9b",
   "metadata": {},
   "source": [
    "## Match CCMT patents to nongreen ones"
   ]
  },
  {
   "cell_type": "code",
   "execution_count": null,
   "id": "f1596e6a-4dc2-42d9-be26-8fc2b6bfdf80",
   "metadata": {},
   "outputs": [
    {
     "data": {
      "text/html": [
       "<div>\n",
       "<style scoped>\n",
       "    .dataframe tbody tr th:only-of-type {\n",
       "        vertical-align: middle;\n",
       "    }\n",
       "\n",
       "    .dataframe tbody tr th {\n",
       "        vertical-align: top;\n",
       "    }\n",
       "\n",
       "    .dataframe thead th {\n",
       "        text-align: right;\n",
       "    }\n",
       "</style>\n",
       "<table border=\"1\" class=\"dataframe\">\n",
       "  <thead>\n",
       "    <tr style=\"text-align: right;\">\n",
       "      <th></th>\n",
       "      <th>docdb_family_id</th>\n",
       "      <th>ccmt</th>\n",
       "    </tr>\n",
       "  </thead>\n",
       "  <tbody>\n",
       "    <tr>\n",
       "      <th>40</th>\n",
       "      <td>2985</td>\n",
       "      <td>True</td>\n",
       "    </tr>\n",
       "    <tr>\n",
       "      <th>77</th>\n",
       "      <td>4031</td>\n",
       "      <td>True</td>\n",
       "    </tr>\n",
       "    <tr>\n",
       "      <th>98</th>\n",
       "      <td>6071</td>\n",
       "      <td>True</td>\n",
       "    </tr>\n",
       "    <tr>\n",
       "      <th>173</th>\n",
       "      <td>9985</td>\n",
       "      <td>True</td>\n",
       "    </tr>\n",
       "    <tr>\n",
       "      <th>184</th>\n",
       "      <td>10027</td>\n",
       "      <td>True</td>\n",
       "    </tr>\n",
       "  </tbody>\n",
       "</table>\n",
       "</div>"
      ],
      "text/plain": [
       "     docdb_family_id  ccmt\n",
       "40              2985  True\n",
       "77              4031  True\n",
       "98              6071  True\n",
       "173             9985  True\n",
       "184            10027  True"
      ]
     },
     "execution_count": 2,
     "metadata": {},
     "output_type": "execute_result"
    }
   ],
   "source": [
    "cpc = pd.read_parquet(\n",
    "    \"../patstat/tls225.parquet\",\n",
    "    columns=['docdb_family_id','cpc4d'],\n",
    ")\n",
    "cpc = cpc[cpc.cpc4d.str[:3].isin(['Y02','Y04'])][['docdb_family_id']].drop_duplicates().assign(ccmt=True)\n",
    "cpc.head()"
   ]
  },
  {
   "cell_type": "code",
   "execution_count": 3,
   "id": "b27c734d-cb0a-4059-9d4a-e1346f7da0d6",
   "metadata": {},
   "outputs": [
    {
     "data": {
      "text/html": [
       "<div>\n",
       "<style scoped>\n",
       "    .dataframe tbody tr th:only-of-type {\n",
       "        vertical-align: middle;\n",
       "    }\n",
       "\n",
       "    .dataframe tbody tr th {\n",
       "        vertical-align: top;\n",
       "    }\n",
       "\n",
       "    .dataframe thead th {\n",
       "        text-align: right;\n",
       "    }\n",
       "</style>\n",
       "<table border=\"1\" class=\"dataframe\">\n",
       "  <thead>\n",
       "    <tr style=\"text-align: right;\">\n",
       "      <th></th>\n",
       "      <th>patent_id</th>\n",
       "      <th>docdb_family_id</th>\n",
       "    </tr>\n",
       "  </thead>\n",
       "  <tbody>\n",
       "    <tr>\n",
       "      <th>0</th>\n",
       "      <td>10000000</td>\n",
       "      <td>55456961</td>\n",
       "    </tr>\n",
       "    <tr>\n",
       "      <th>1</th>\n",
       "      <td>10000001</td>\n",
       "      <td>56163195</td>\n",
       "    </tr>\n",
       "    <tr>\n",
       "      <th>2</th>\n",
       "      <td>10000002</td>\n",
       "      <td>53493659</td>\n",
       "    </tr>\n",
       "    <tr>\n",
       "      <th>3</th>\n",
       "      <td>10000003</td>\n",
       "      <td>48045399</td>\n",
       "    </tr>\n",
       "    <tr>\n",
       "      <th>4</th>\n",
       "      <td>10000004</td>\n",
       "      <td>56234461</td>\n",
       "    </tr>\n",
       "  </tbody>\n",
       "</table>\n",
       "</div>"
      ],
      "text/plain": [
       "  patent_id  docdb_family_id\n",
       "0  10000000         55456961\n",
       "1  10000001         56163195\n",
       "2  10000002         53493659\n",
       "3  10000003         48045399\n",
       "4  10000004         56234461"
      ]
     },
     "execution_count": 3,
     "metadata": {},
     "output_type": "execute_result"
    }
   ],
   "source": [
    "patvecdf = pd.read_parquet('data/patvecdf.parquet',columns=['patent_id','docdb_family_id'])\n",
    "patvecdf.head()"
   ]
  },
  {
   "cell_type": "code",
   "execution_count": 4,
   "id": "0d9df8cb-3e32-4e9f-827b-ee5f51caabfe",
   "metadata": {},
   "outputs": [
    {
     "data": {
      "text/plain": [
       "(8436247, 2)"
      ]
     },
     "execution_count": 4,
     "metadata": {},
     "output_type": "execute_result"
    }
   ],
   "source": [
    "patvecdf.shape"
   ]
  },
  {
   "cell_type": "code",
   "execution_count": 5,
   "id": "e13cdfe9-e21b-415f-847b-6ef98bb27209",
   "metadata": {},
   "outputs": [
    {
     "data": {
      "text/html": [
       "<div>\n",
       "<style scoped>\n",
       "    .dataframe tbody tr th:only-of-type {\n",
       "        vertical-align: middle;\n",
       "    }\n",
       "\n",
       "    .dataframe tbody tr th {\n",
       "        vertical-align: top;\n",
       "    }\n",
       "\n",
       "    .dataframe thead th {\n",
       "        text-align: right;\n",
       "    }\n",
       "</style>\n",
       "<table border=\"1\" class=\"dataframe\">\n",
       "  <thead>\n",
       "    <tr style=\"text-align: right;\">\n",
       "      <th></th>\n",
       "      <th>index</th>\n",
       "      <th>patent_id</th>\n",
       "      <th>docdb_family_id</th>\n",
       "      <th>ccmt</th>\n",
       "    </tr>\n",
       "  </thead>\n",
       "  <tbody>\n",
       "    <tr>\n",
       "      <th>0</th>\n",
       "      <td>0</td>\n",
       "      <td>10000000</td>\n",
       "      <td>55456961</td>\n",
       "      <td>False</td>\n",
       "    </tr>\n",
       "    <tr>\n",
       "      <th>1</th>\n",
       "      <td>1</td>\n",
       "      <td>10000001</td>\n",
       "      <td>56163195</td>\n",
       "      <td>False</td>\n",
       "    </tr>\n",
       "    <tr>\n",
       "      <th>2</th>\n",
       "      <td>2</td>\n",
       "      <td>10000002</td>\n",
       "      <td>53493659</td>\n",
       "      <td>False</td>\n",
       "    </tr>\n",
       "    <tr>\n",
       "      <th>3</th>\n",
       "      <td>3</td>\n",
       "      <td>10000003</td>\n",
       "      <td>48045399</td>\n",
       "      <td>False</td>\n",
       "    </tr>\n",
       "    <tr>\n",
       "      <th>4</th>\n",
       "      <td>4</td>\n",
       "      <td>10000004</td>\n",
       "      <td>56234461</td>\n",
       "      <td>False</td>\n",
       "    </tr>\n",
       "  </tbody>\n",
       "</table>\n",
       "</div>"
      ],
      "text/plain": [
       "   index patent_id  docdb_family_id   ccmt\n",
       "0      0  10000000         55456961  False\n",
       "1      1  10000001         56163195  False\n",
       "2      2  10000002         53493659  False\n",
       "3      3  10000003         48045399  False\n",
       "4      4  10000004         56234461  False"
      ]
     },
     "execution_count": 5,
     "metadata": {},
     "output_type": "execute_result"
    }
   ],
   "source": [
    "patvec_idx = patvecdf.reset_index().dropna().merge(cpc,how='left').fillna(False)\n",
    "patvec_idx.head()"
   ]
  },
  {
   "cell_type": "code",
   "execution_count": 6,
   "id": "55d90f2f-80e5-45f2-907d-a42cd66a1d05",
   "metadata": {},
   "outputs": [
    {
     "data": {
      "text/plain": [
       "((6621767,), 340900)"
      ]
     },
     "execution_count": 6,
     "metadata": {},
     "output_type": "execute_result"
    }
   ],
   "source": [
    "patvec_idx.ccmt.shape,patvec_idx.ccmt.sum()"
   ]
  },
  {
   "cell_type": "code",
   "execution_count": null,
   "id": "9d79877c-6db6-4d8d-a218-41e392036eb0",
   "metadata": {},
   "outputs": [
    {
     "data": {
      "text/plain": [
       "((5734067,), 288579)"
      ]
     },
     "execution_count": 7,
     "metadata": {},
     "output_type": "execute_result"
    }
   ],
   "source": [
    "## use family id to deduplicate\n",
    "patvec_idx = patvec_idx[['index','docdb_family_id','ccmt']].drop_duplicates(subset=['docdb_family_id'])\n",
    "patvec_idx.ccmt.shape,patvec_idx.ccmt.sum()"
   ]
  },
  {
   "cell_type": "code",
   "execution_count": null,
   "id": "59f13b56-be20-446e-a8c0-8e3826d32074",
   "metadata": {},
   "outputs": [
    {
     "data": {
      "text/plain": [
       "(8436247, 300)"
      ]
     },
     "execution_count": 8,
     "metadata": {},
     "output_type": "execute_result"
    }
   ],
   "source": [
    "## load patents text embeddings\n",
    "patvec = np.load('../patent_text/fse_embedding/title_abstract_embedding.npy')\n",
    "patvec.shape"
   ]
  },
  {
   "cell_type": "code",
   "execution_count": null,
   "id": "6e5542cc-1eff-4c53-9724-ef1138490bd5",
   "metadata": {},
   "outputs": [
    {
     "data": {
      "text/plain": [
       "((288579, 300), (5445488, 300))"
      ]
     },
     "execution_count": 9,
     "metadata": {},
     "output_type": "execute_result"
    }
   ],
   "source": [
    "## separate into CCMT and nongreen sets\n",
    "patvec_ccmt = patvec[patvec_idx[patvec_idx.ccmt]['index'],:]\n",
    "patvec_other = patvec[patvec_idx[~patvec_idx.ccmt]['index'],:]\n",
    "patvec_ccmt.shape, patvec_other.shape"
   ]
  },
  {
   "cell_type": "code",
   "execution_count": 10,
   "id": "7cecc1bc-7f75-436b-abf4-b7519c00bdce",
   "metadata": {},
   "outputs": [],
   "source": [
    "del patvec"
   ]
  },
  {
   "cell_type": "markdown",
   "id": "2ff881fe",
   "metadata": {},
   "source": [
    "## Use HNSW in nmslib to match CCMT"
   ]
  },
  {
   "cell_type": "code",
   "execution_count": 11,
   "id": "b2cf31cb-49dd-4e22-ae74-57e1da361a3b",
   "metadata": {},
   "outputs": [],
   "source": [
    "import nmslib"
   ]
  },
  {
   "cell_type": "code",
   "execution_count": 12,
   "id": "6740eacd-bf9b-487e-93b1-f19557caae08",
   "metadata": {},
   "outputs": [],
   "source": [
    "index = nmslib.init(method='hnsw', space='cosinesimil')"
   ]
  },
  {
   "cell_type": "code",
   "execution_count": 13,
   "id": "db7976c9-8331-4cd9-ac5e-ad986c70afe7",
   "metadata": {},
   "outputs": [
    {
     "data": {
      "text/plain": [
       "5445488"
      ]
     },
     "execution_count": 13,
     "metadata": {},
     "output_type": "execute_result"
    }
   ],
   "source": [
    "index.addDataPointBatch(patvec_other)"
   ]
  },
  {
   "cell_type": "code",
   "execution_count": 14,
   "id": "fadb51d6-9bce-4a41-9674-878b64573dec",
   "metadata": {},
   "outputs": [
    {
     "name": "stderr",
     "output_type": "stream",
     "text": [
      "\n",
      "0%   10   20   30   40   50   60   70   80   90   100%\n",
      "|----|----|----|----|----|----|----|----|----|----|\n",
      "***************************************************\n"
     ]
    }
   ],
   "source": [
    "index.createIndex(print_progress=True) "
   ]
  },
  {
   "cell_type": "code",
   "execution_count": 15,
   "id": "524aac0d-afca-4aab-8cd2-cb8da0f3f56a",
   "metadata": {},
   "outputs": [],
   "source": [
    "index.saveIndex('data/hnsw_cos_index_patvec_other.bin', save_data=True)"
   ]
  },
  {
   "cell_type": "code",
   "execution_count": 16,
   "id": "f8676a92-621d-42f8-87a0-7e44834d3817",
   "metadata": {},
   "outputs": [],
   "source": [
    "matched = index.knnQueryBatch(patvec_ccmt, k=10)"
   ]
  },
  {
   "cell_type": "code",
   "execution_count": 17,
   "id": "e2baf32f-c9ef-4f65-b275-4740b0a0a8f1",
   "metadata": {},
   "outputs": [
    {
     "data": {
      "text/html": [
       "<div>\n",
       "<style scoped>\n",
       "    .dataframe tbody tr th:only-of-type {\n",
       "        vertical-align: middle;\n",
       "    }\n",
       "\n",
       "    .dataframe tbody tr th {\n",
       "        vertical-align: top;\n",
       "    }\n",
       "\n",
       "    .dataframe thead th {\n",
       "        text-align: right;\n",
       "    }\n",
       "</style>\n",
       "<table border=\"1\" class=\"dataframe\">\n",
       "  <thead>\n",
       "    <tr style=\"text-align: right;\">\n",
       "      <th></th>\n",
       "      <th>index</th>\n",
       "      <th>idx</th>\n",
       "      <th>cos</th>\n",
       "    </tr>\n",
       "  </thead>\n",
       "  <tbody>\n",
       "    <tr>\n",
       "      <th>0</th>\n",
       "      <td>0</td>\n",
       "      <td>[2587958, 2800154, 4064549, 3623389, 3563498, ...</td>\n",
       "      <td>[0.29003155, 0.3314709, 0.3366409, 0.33757633,...</td>\n",
       "    </tr>\n",
       "    <tr>\n",
       "      <th>1</th>\n",
       "      <td>1</td>\n",
       "      <td>[4836872, 3911259, 2947853, 1854582, 2942633, ...</td>\n",
       "      <td>[0.17315382, 0.17516488, 0.1752541, 0.18122065...</td>\n",
       "    </tr>\n",
       "    <tr>\n",
       "      <th>2</th>\n",
       "      <td>2</td>\n",
       "      <td>[1694146, 4423284, 1340024, 367260, 2758352, 7...</td>\n",
       "      <td>[0.21735555, 0.24394912, 0.24443388, 0.2551789...</td>\n",
       "    </tr>\n",
       "    <tr>\n",
       "      <th>3</th>\n",
       "      <td>3</td>\n",
       "      <td>[3660878, 3402815, 4806288, 757333, 3818505, 3...</td>\n",
       "      <td>[0.22268611, 0.23808455, 0.24158895, 0.2474194...</td>\n",
       "    </tr>\n",
       "    <tr>\n",
       "      <th>4</th>\n",
       "      <td>4</td>\n",
       "      <td>[96089, 4002091, 3017262, 4581400, 443926, 313...</td>\n",
       "      <td>[0.17031789, 0.17091668, 0.17147112, 0.1826314...</td>\n",
       "    </tr>\n",
       "  </tbody>\n",
       "</table>\n",
       "</div>"
      ],
      "text/plain": [
       "   index                                                idx  \\\n",
       "0      0  [2587958, 2800154, 4064549, 3623389, 3563498, ...   \n",
       "1      1  [4836872, 3911259, 2947853, 1854582, 2942633, ...   \n",
       "2      2  [1694146, 4423284, 1340024, 367260, 2758352, 7...   \n",
       "3      3  [3660878, 3402815, 4806288, 757333, 3818505, 3...   \n",
       "4      4  [96089, 4002091, 3017262, 4581400, 443926, 313...   \n",
       "\n",
       "                                                 cos  \n",
       "0  [0.29003155, 0.3314709, 0.3366409, 0.33757633,...  \n",
       "1  [0.17315382, 0.17516488, 0.1752541, 0.18122065...  \n",
       "2  [0.21735555, 0.24394912, 0.24443388, 0.2551789...  \n",
       "3  [0.22268611, 0.23808455, 0.24158895, 0.2474194...  \n",
       "4  [0.17031789, 0.17091668, 0.17147112, 0.1826314...  "
      ]
     },
     "execution_count": 17,
     "metadata": {},
     "output_type": "execute_result"
    }
   ],
   "source": [
    "df_matched = pd.DataFrame(matched,columns=['idx','cos']).reset_index()\n",
    "df_matched.head()"
   ]
  },
  {
   "cell_type": "code",
   "execution_count": 18,
   "id": "ec23337a-2e3b-434c-8a80-45ddd69a2ee7",
   "metadata": {},
   "outputs": [
    {
     "data": {
      "text/plain": [
       "((2885790, 2), (2885790, 2))"
      ]
     },
     "execution_count": 18,
     "metadata": {},
     "output_type": "execute_result"
    }
   ],
   "source": [
    "df_idx = df_matched[['index','idx']].explode('idx')\n",
    "df_cos = df_matched[['index','cos']].explode('cos')\n",
    "df_idx.shape, df_cos.shape"
   ]
  },
  {
   "cell_type": "code",
   "execution_count": 19,
   "id": "04487a53-6f7b-4d4b-8e53-163f03d372b1",
   "metadata": {},
   "outputs": [
    {
     "data": {
      "text/html": [
       "<div>\n",
       "<style scoped>\n",
       "    .dataframe tbody tr th:only-of-type {\n",
       "        vertical-align: middle;\n",
       "    }\n",
       "\n",
       "    .dataframe tbody tr th {\n",
       "        vertical-align: top;\n",
       "    }\n",
       "\n",
       "    .dataframe thead th {\n",
       "        text-align: right;\n",
       "    }\n",
       "</style>\n",
       "<table border=\"1\" class=\"dataframe\">\n",
       "  <thead>\n",
       "    <tr style=\"text-align: right;\">\n",
       "      <th></th>\n",
       "      <th>index</th>\n",
       "      <th>idx</th>\n",
       "      <th>cos</th>\n",
       "    </tr>\n",
       "  </thead>\n",
       "  <tbody>\n",
       "    <tr>\n",
       "      <th>0</th>\n",
       "      <td>0</td>\n",
       "      <td>2587958</td>\n",
       "      <td>0.290032</td>\n",
       "    </tr>\n",
       "    <tr>\n",
       "      <th>0</th>\n",
       "      <td>0</td>\n",
       "      <td>2800154</td>\n",
       "      <td>0.331471</td>\n",
       "    </tr>\n",
       "    <tr>\n",
       "      <th>0</th>\n",
       "      <td>0</td>\n",
       "      <td>4064549</td>\n",
       "      <td>0.336641</td>\n",
       "    </tr>\n",
       "    <tr>\n",
       "      <th>0</th>\n",
       "      <td>0</td>\n",
       "      <td>3623389</td>\n",
       "      <td>0.337576</td>\n",
       "    </tr>\n",
       "    <tr>\n",
       "      <th>0</th>\n",
       "      <td>0</td>\n",
       "      <td>3563498</td>\n",
       "      <td>0.342262</td>\n",
       "    </tr>\n",
       "  </tbody>\n",
       "</table>\n",
       "</div>"
      ],
      "text/plain": [
       "   index      idx       cos\n",
       "0      0  2587958  0.290032\n",
       "0      0  2800154  0.331471\n",
       "0      0  4064549  0.336641\n",
       "0      0  3623389  0.337576\n",
       "0      0  3563498  0.342262"
      ]
     },
     "execution_count": 19,
     "metadata": {},
     "output_type": "execute_result"
    }
   ],
   "source": [
    "df_matched_expand = df_idx.assign(cos = df_cos.cos)\n",
    "df_matched_expand.head()"
   ]
  },
  {
   "cell_type": "code",
   "execution_count": 20,
   "id": "a5b64db3-2efa-41d9-ac8d-feb6f5437282",
   "metadata": {},
   "outputs": [
    {
     "data": {
      "text/plain": [
       "(2885790, 3)"
      ]
     },
     "execution_count": 20,
     "metadata": {},
     "output_type": "execute_result"
    }
   ],
   "source": [
    "df_matched_expand.shape"
   ]
  },
  {
   "cell_type": "code",
   "execution_count": 21,
   "id": "714a1ee0-a738-4788-865e-d17a86124c79",
   "metadata": {},
   "outputs": [
    {
     "data": {
      "text/html": [
       "<div>\n",
       "<style scoped>\n",
       "    .dataframe tbody tr th:only-of-type {\n",
       "        vertical-align: middle;\n",
       "    }\n",
       "\n",
       "    .dataframe tbody tr th {\n",
       "        vertical-align: top;\n",
       "    }\n",
       "\n",
       "    .dataframe thead th {\n",
       "        text-align: right;\n",
       "    }\n",
       "</style>\n",
       "<table border=\"1\" class=\"dataframe\">\n",
       "  <thead>\n",
       "    <tr style=\"text-align: right;\">\n",
       "      <th></th>\n",
       "      <th>index</th>\n",
       "      <th>idx</th>\n",
       "      <th>cos</th>\n",
       "      <th>ccmt_family_id</th>\n",
       "    </tr>\n",
       "  </thead>\n",
       "  <tbody>\n",
       "    <tr>\n",
       "      <th>0</th>\n",
       "      <td>0</td>\n",
       "      <td>2587958</td>\n",
       "      <td>0.290032</td>\n",
       "      <td>53794004</td>\n",
       "    </tr>\n",
       "    <tr>\n",
       "      <th>0</th>\n",
       "      <td>0</td>\n",
       "      <td>2800154</td>\n",
       "      <td>0.331471</td>\n",
       "      <td>53794004</td>\n",
       "    </tr>\n",
       "    <tr>\n",
       "      <th>0</th>\n",
       "      <td>0</td>\n",
       "      <td>4064549</td>\n",
       "      <td>0.336641</td>\n",
       "      <td>53794004</td>\n",
       "    </tr>\n",
       "    <tr>\n",
       "      <th>0</th>\n",
       "      <td>0</td>\n",
       "      <td>3623389</td>\n",
       "      <td>0.337576</td>\n",
       "      <td>53794004</td>\n",
       "    </tr>\n",
       "    <tr>\n",
       "      <th>0</th>\n",
       "      <td>0</td>\n",
       "      <td>3563498</td>\n",
       "      <td>0.342262</td>\n",
       "      <td>53794004</td>\n",
       "    </tr>\n",
       "  </tbody>\n",
       "</table>\n",
       "</div>"
      ],
      "text/plain": [
       "   index      idx       cos  ccmt_family_id\n",
       "0      0  2587958  0.290032        53794004\n",
       "0      0  2800154  0.331471        53794004\n",
       "0      0  4064549  0.336641        53794004\n",
       "0      0  3623389  0.337576        53794004\n",
       "0      0  3563498  0.342262        53794004"
      ]
     },
     "execution_count": 21,
     "metadata": {},
     "output_type": "execute_result"
    }
   ],
   "source": [
    "df_matched_expand = df_matched_expand.merge(\n",
    "    patvec_idx[patvec_idx.ccmt][[\"docdb_family_id\"]].rename(\n",
    "        columns={\"docdb_family_id\": \"ccmt_family_id\"}\n",
    "    ).reset_index(drop=True),\n",
    "    left_on=\"index\",\n",
    "    right_index=True,\n",
    ")\n",
    "df_matched_expand.head()"
   ]
  },
  {
   "cell_type": "code",
   "execution_count": 22,
   "id": "1d852aad-7072-485e-9a2c-55e7cc4d6e5c",
   "metadata": {},
   "outputs": [
    {
     "data": {
      "text/html": [
       "<div>\n",
       "<style scoped>\n",
       "    .dataframe tbody tr th:only-of-type {\n",
       "        vertical-align: middle;\n",
       "    }\n",
       "\n",
       "    .dataframe tbody tr th {\n",
       "        vertical-align: top;\n",
       "    }\n",
       "\n",
       "    .dataframe thead th {\n",
       "        text-align: right;\n",
       "    }\n",
       "</style>\n",
       "<table border=\"1\" class=\"dataframe\">\n",
       "  <thead>\n",
       "    <tr style=\"text-align: right;\">\n",
       "      <th></th>\n",
       "      <th>index</th>\n",
       "      <th>idx</th>\n",
       "      <th>cos</th>\n",
       "      <th>ccmt_patent_id</th>\n",
       "      <th>patent_id</th>\n",
       "    </tr>\n",
       "  </thead>\n",
       "  <tbody>\n",
       "    <tr>\n",
       "      <th>0</th>\n",
       "      <td>0</td>\n",
       "      <td>2587958</td>\n",
       "      <td>0.290032</td>\n",
       "      <td>53794004</td>\n",
       "      <td>8166140</td>\n",
       "    </tr>\n",
       "    <tr>\n",
       "      <th>0</th>\n",
       "      <td>0</td>\n",
       "      <td>2800154</td>\n",
       "      <td>0.331471</td>\n",
       "      <td>53794004</td>\n",
       "      <td>34394408</td>\n",
       "    </tr>\n",
       "    <tr>\n",
       "      <th>147347</th>\n",
       "      <td>147347</td>\n",
       "      <td>2800154</td>\n",
       "      <td>0.211937</td>\n",
       "      <td>40342853</td>\n",
       "      <td>34394408</td>\n",
       "    </tr>\n",
       "    <tr>\n",
       "      <th>0</th>\n",
       "      <td>0</td>\n",
       "      <td>4064549</td>\n",
       "      <td>0.336641</td>\n",
       "      <td>53794004</td>\n",
       "      <td>41401672</td>\n",
       "    </tr>\n",
       "    <tr>\n",
       "      <th>0</th>\n",
       "      <td>0</td>\n",
       "      <td>3623389</td>\n",
       "      <td>0.337576</td>\n",
       "      <td>53794004</td>\n",
       "      <td>39667457</td>\n",
       "    </tr>\n",
       "  </tbody>\n",
       "</table>\n",
       "</div>"
      ],
      "text/plain": [
       "         index      idx       cos  ccmt_patent_id  patent_id\n",
       "0            0  2587958  0.290032        53794004    8166140\n",
       "0            0  2800154  0.331471        53794004   34394408\n",
       "147347  147347  2800154  0.211937        40342853   34394408\n",
       "0            0  4064549  0.336641        53794004   41401672\n",
       "0            0  3623389  0.337576        53794004   39667457"
      ]
     },
     "execution_count": 22,
     "metadata": {},
     "output_type": "execute_result"
    }
   ],
   "source": [
    "df_matched_expand = df_matched_expand.rename(\n",
    "        columns={\"ccmt_family_id\": \"ccmt_patent_id\"}\n",
    "    ).merge(\n",
    "    patvec_idx[~patvec_idx.ccmt][[\"docdb_family_id\"]].rename(\n",
    "        columns={\"docdb_family_id\": \"patent_id\"}\n",
    "    ).reset_index(drop=True),\n",
    "    left_on=\"idx\",\n",
    "    right_index=True,\n",
    ")\n",
    "df_matched_expand.head()"
   ]
  },
  {
   "cell_type": "code",
   "execution_count": 23,
   "id": "76b6a9b3-4422-41b4-9549-27c6c33dce68",
   "metadata": {},
   "outputs": [
    {
     "data": {
      "text/plain": [
       "(2884042, (2885790, 5))"
      ]
     },
     "execution_count": 23,
     "metadata": {},
     "output_type": "execute_result"
    }
   ],
   "source": [
    "(df_matched_expand.cos>0).sum(),df_matched_expand.shape"
   ]
  },
  {
   "cell_type": "code",
   "execution_count": 24,
   "id": "a2acb5d7-6fa2-4b56-b2b2-0bf0fc6010b1",
   "metadata": {},
   "outputs": [
    {
     "data": {
      "text/html": [
       "<div>\n",
       "<style scoped>\n",
       "    .dataframe tbody tr th:only-of-type {\n",
       "        vertical-align: middle;\n",
       "    }\n",
       "\n",
       "    .dataframe tbody tr th {\n",
       "        vertical-align: top;\n",
       "    }\n",
       "\n",
       "    .dataframe thead th {\n",
       "        text-align: right;\n",
       "    }\n",
       "</style>\n",
       "<table border=\"1\" class=\"dataframe\">\n",
       "  <thead>\n",
       "    <tr style=\"text-align: right;\">\n",
       "      <th></th>\n",
       "      <th>index</th>\n",
       "      <th>idx</th>\n",
       "      <th>cos</th>\n",
       "      <th>ccmt_patent_id</th>\n",
       "      <th>patent_id</th>\n",
       "    </tr>\n",
       "  </thead>\n",
       "  <tbody>\n",
       "    <tr>\n",
       "      <th>0</th>\n",
       "      <td>90572</td>\n",
       "      <td>309667</td>\n",
       "      <td>0.186756</td>\n",
       "      <td>1187498</td>\n",
       "      <td>24371233</td>\n",
       "    </tr>\n",
       "    <tr>\n",
       "      <th>1</th>\n",
       "      <td>90572</td>\n",
       "      <td>1457828</td>\n",
       "      <td>0.191544</td>\n",
       "      <td>1187498</td>\n",
       "      <td>25512219</td>\n",
       "    </tr>\n",
       "    <tr>\n",
       "      <th>2</th>\n",
       "      <td>90572</td>\n",
       "      <td>632392</td>\n",
       "      <td>0.191563</td>\n",
       "      <td>1187498</td>\n",
       "      <td>11782729</td>\n",
       "    </tr>\n",
       "    <tr>\n",
       "      <th>3</th>\n",
       "      <td>90572</td>\n",
       "      <td>417641</td>\n",
       "      <td>0.195533</td>\n",
       "      <td>1187498</td>\n",
       "      <td>25511142</td>\n",
       "    </tr>\n",
       "    <tr>\n",
       "      <th>4</th>\n",
       "      <td>90572</td>\n",
       "      <td>4457264</td>\n",
       "      <td>0.195809</td>\n",
       "      <td>1187498</td>\n",
       "      <td>40387622</td>\n",
       "    </tr>\n",
       "    <tr>\n",
       "      <th>5</th>\n",
       "      <td>90572</td>\n",
       "      <td>509512</td>\n",
       "      <td>0.196449</td>\n",
       "      <td>1187498</td>\n",
       "      <td>9232695</td>\n",
       "    </tr>\n",
       "    <tr>\n",
       "      <th>6</th>\n",
       "      <td>90572</td>\n",
       "      <td>1914107</td>\n",
       "      <td>0.200936</td>\n",
       "      <td>1187498</td>\n",
       "      <td>25537361</td>\n",
       "    </tr>\n",
       "    <tr>\n",
       "      <th>7</th>\n",
       "      <td>90572</td>\n",
       "      <td>541048</td>\n",
       "      <td>0.201647</td>\n",
       "      <td>1187498</td>\n",
       "      <td>26736381</td>\n",
       "    </tr>\n",
       "    <tr>\n",
       "      <th>8</th>\n",
       "      <td>90572</td>\n",
       "      <td>644281</td>\n",
       "      <td>0.202524</td>\n",
       "      <td>1187498</td>\n",
       "      <td>26732276</td>\n",
       "    </tr>\n",
       "    <tr>\n",
       "      <th>9</th>\n",
       "      <td>90572</td>\n",
       "      <td>534267</td>\n",
       "      <td>0.203068</td>\n",
       "      <td>1187498</td>\n",
       "      <td>26736382</td>\n",
       "    </tr>\n",
       "    <tr>\n",
       "      <th>10</th>\n",
       "      <td>53838</td>\n",
       "      <td>1997405</td>\n",
       "      <td>0.187866</td>\n",
       "      <td>1236571</td>\n",
       "      <td>22344113</td>\n",
       "    </tr>\n",
       "    <tr>\n",
       "      <th>11</th>\n",
       "      <td>53838</td>\n",
       "      <td>224199</td>\n",
       "      <td>0.197333</td>\n",
       "      <td>1236571</td>\n",
       "      <td>19823240</td>\n",
       "    </tr>\n",
       "    <tr>\n",
       "      <th>12</th>\n",
       "      <td>53838</td>\n",
       "      <td>2773864</td>\n",
       "      <td>0.202074</td>\n",
       "      <td>1236571</td>\n",
       "      <td>9935855</td>\n",
       "    </tr>\n",
       "    <tr>\n",
       "      <th>13</th>\n",
       "      <td>53838</td>\n",
       "      <td>1468539</td>\n",
       "      <td>0.209659</td>\n",
       "      <td>1236571</td>\n",
       "      <td>6443818</td>\n",
       "    </tr>\n",
       "    <tr>\n",
       "      <th>14</th>\n",
       "      <td>53838</td>\n",
       "      <td>234472</td>\n",
       "      <td>0.213555</td>\n",
       "      <td>1236571</td>\n",
       "      <td>24695090</td>\n",
       "    </tr>\n",
       "  </tbody>\n",
       "</table>\n",
       "</div>"
      ],
      "text/plain": [
       "    index      idx       cos  ccmt_patent_id  patent_id\n",
       "0   90572   309667  0.186756         1187498   24371233\n",
       "1   90572  1457828  0.191544         1187498   25512219\n",
       "2   90572   632392  0.191563         1187498   11782729\n",
       "3   90572   417641  0.195533         1187498   25511142\n",
       "4   90572  4457264  0.195809         1187498   40387622\n",
       "5   90572   509512  0.196449         1187498    9232695\n",
       "6   90572  1914107  0.200936         1187498   25537361\n",
       "7   90572   541048  0.201647         1187498   26736381\n",
       "8   90572   644281  0.202524         1187498   26732276\n",
       "9   90572   534267  0.203068         1187498   26736382\n",
       "10  53838  1997405  0.187866         1236571   22344113\n",
       "11  53838   224199  0.197333         1236571   19823240\n",
       "12  53838  2773864  0.202074         1236571    9935855\n",
       "13  53838  1468539  0.209659         1236571    6443818\n",
       "14  53838   234472  0.213555         1236571   24695090"
      ]
     },
     "execution_count": 24,
     "metadata": {},
     "output_type": "execute_result"
    }
   ],
   "source": [
    "df_matched_expand=df_matched_expand.sort_values(['ccmt_patent_id','cos','patent_id',]).reset_index(drop=True)\n",
    "df_matched_expand.head(15)"
   ]
  },
  {
   "cell_type": "code",
   "execution_count": 25,
   "id": "fc683f59-f8a6-4a57-9f91-dcaebc829847",
   "metadata": {},
   "outputs": [
    {
     "data": {
      "text/plain": [
       "(0.71998185, 0.0)"
      ]
     },
     "execution_count": 25,
     "metadata": {},
     "output_type": "execute_result"
    }
   ],
   "source": [
    "df_matched_expand.cos.max(),df_matched_expand.cos.min()"
   ]
  },
  {
   "cell_type": "code",
   "execution_count": 26,
   "id": "c206c6f0-adbd-4725-96c7-f0f50bb1032d",
   "metadata": {},
   "outputs": [],
   "source": [
    "df_matched_expand['idx']=df_matched_expand['idx'].astype(int)\n",
    "df_matched_expand['cos']=df_matched_expand['cos'].astype(float)"
   ]
  },
  {
   "cell_type": "code",
   "execution_count": 27,
   "id": "2668ae5c-8d9c-4488-b9db-98ee9ca1ccd3",
   "metadata": {},
   "outputs": [
    {
     "data": {
      "text/plain": [
       "index               int64\n",
       "idx                 int64\n",
       "cos               float64\n",
       "ccmt_patent_id      Int64\n",
       "patent_id           Int64\n",
       "dtype: object"
      ]
     },
     "execution_count": 27,
     "metadata": {},
     "output_type": "execute_result"
    }
   ],
   "source": [
    "df_matched_expand.dtypes"
   ]
  },
  {
   "cell_type": "code",
   "execution_count": 28,
   "id": "d6662180-dfa8-4ae0-a875-c92a9e1b9678",
   "metadata": {},
   "outputs": [],
   "source": [
    "df_matched_expand.to_parquet('data/matched_ccmt_other.parquet',index=False)"
   ]
  },
  {
   "cell_type": "code",
   "execution_count": 29,
   "id": "80040c40-dd69-4bfa-b8c4-6afaf275e186",
   "metadata": {},
   "outputs": [
    {
     "data": {
      "text/plain": [
       "<Axes: ylabel='Frequency'>"
      ]
     },
     "execution_count": 29,
     "metadata": {},
     "output_type": "execute_result"
    },
    {
     "data": {
      "image/png": "[encoded data removed]",
      "text/plain": [
       "<Figure size 640x480 with 1 Axes>"
      ]
     },
     "metadata": {},
     "output_type": "display_data"
    }
   ],
   "source": [
    "df_matched_expand.cos.plot.hist(bins=100)"
   ]
  },
  {
   "cell_type": "code",
   "execution_count": null,
   "id": "bb8b48f0-7344-408f-ac21-d32d99fcf9bd",
   "metadata": {},
   "outputs": [],
   "source": []
  },
  {
   "cell_type": "code",
   "execution_count": 30,
   "id": "1b2a8c7d-0dff-4147-a806-e4a0076431d4",
   "metadata": {},
   "outputs": [
    {
     "name": "stdout",
     "output_type": "stream",
     "text": [
      "(2885790, 5)\n"
     ]
    },
    {
     "data": {
      "text/html": [
       "<div>\n",
       "<style scoped>\n",
       "    .dataframe tbody tr th:only-of-type {\n",
       "        vertical-align: middle;\n",
       "    }\n",
       "\n",
       "    .dataframe tbody tr th {\n",
       "        vertical-align: top;\n",
       "    }\n",
       "\n",
       "    .dataframe thead th {\n",
       "        text-align: right;\n",
       "    }\n",
       "</style>\n",
       "<table border=\"1\" class=\"dataframe\">\n",
       "  <thead>\n",
       "    <tr style=\"text-align: right;\">\n",
       "      <th></th>\n",
       "      <th>index</th>\n",
       "      <th>idx</th>\n",
       "      <th>cos</th>\n",
       "      <th>ccmt_docdb_family_id</th>\n",
       "      <th>docdb_family_id</th>\n",
       "    </tr>\n",
       "  </thead>\n",
       "  <tbody>\n",
       "    <tr>\n",
       "      <th>0</th>\n",
       "      <td>90572</td>\n",
       "      <td>309667</td>\n",
       "      <td>0.186756</td>\n",
       "      <td>1187498</td>\n",
       "      <td>24371233</td>\n",
       "    </tr>\n",
       "    <tr>\n",
       "      <th>1</th>\n",
       "      <td>90572</td>\n",
       "      <td>1457828</td>\n",
       "      <td>0.191544</td>\n",
       "      <td>1187498</td>\n",
       "      <td>25512219</td>\n",
       "    </tr>\n",
       "    <tr>\n",
       "      <th>2</th>\n",
       "      <td>90572</td>\n",
       "      <td>632392</td>\n",
       "      <td>0.191563</td>\n",
       "      <td>1187498</td>\n",
       "      <td>11782729</td>\n",
       "    </tr>\n",
       "    <tr>\n",
       "      <th>3</th>\n",
       "      <td>90572</td>\n",
       "      <td>417641</td>\n",
       "      <td>0.195533</td>\n",
       "      <td>1187498</td>\n",
       "      <td>25511142</td>\n",
       "    </tr>\n",
       "    <tr>\n",
       "      <th>4</th>\n",
       "      <td>90572</td>\n",
       "      <td>4457264</td>\n",
       "      <td>0.195809</td>\n",
       "      <td>1187498</td>\n",
       "      <td>40387622</td>\n",
       "    </tr>\n",
       "  </tbody>\n",
       "</table>\n",
       "</div>"
      ],
      "text/plain": [
       "   index      idx       cos  ccmt_docdb_family_id  docdb_family_id\n",
       "0  90572   309667  0.186756               1187498         24371233\n",
       "1  90572  1457828  0.191544               1187498         25512219\n",
       "2  90572   632392  0.191563               1187498         11782729\n",
       "3  90572   417641  0.195533               1187498         25511142\n",
       "4  90572  4457264  0.195809               1187498         40387622"
      ]
     },
     "execution_count": 30,
     "metadata": {},
     "output_type": "execute_result"
    }
   ],
   "source": [
    "df_matched2 = df_matched_expand.rename(\n",
    "    columns={\"ccmt_patent_id\": \"ccmt_docdb_family_id\", \"patent_id\": \"docdb_family_id\"}\n",
    ")\n",
    "print(df_matched2.shape)\n",
    "df_matched2.head()"
   ]
  },
  {
   "cell_type": "code",
   "execution_count": 31,
   "id": "2f1f0335-26dc-4c09-a04a-45ac00087c4f",
   "metadata": {},
   "outputs": [
    {
     "data": {
      "text/html": [
       "<div>\n",
       "<style scoped>\n",
       "    .dataframe tbody tr th:only-of-type {\n",
       "        vertical-align: middle;\n",
       "    }\n",
       "\n",
       "    .dataframe tbody tr th {\n",
       "        vertical-align: top;\n",
       "    }\n",
       "\n",
       "    .dataframe thead th {\n",
       "        text-align: right;\n",
       "    }\n",
       "</style>\n",
       "<table border=\"1\" class=\"dataframe\">\n",
       "  <thead>\n",
       "    <tr style=\"text-align: right;\">\n",
       "      <th></th>\n",
       "      <th>cos</th>\n",
       "      <th>ccmt_docdb_family_id</th>\n",
       "      <th>docdb_family_id</th>\n",
       "      <th>ccmt_patent_id</th>\n",
       "      <th>patent_id</th>\n",
       "    </tr>\n",
       "  </thead>\n",
       "  <tbody>\n",
       "    <tr>\n",
       "      <th>0</th>\n",
       "      <td>0.186756</td>\n",
       "      <td>1187498</td>\n",
       "      <td>24371233</td>\n",
       "      <td>5946941</td>\n",
       "      <td>4123914</td>\n",
       "    </tr>\n",
       "    <tr>\n",
       "      <th>1</th>\n",
       "      <td>0.236607</td>\n",
       "      <td>19565893</td>\n",
       "      <td>24371233</td>\n",
       "      <td>6324865</td>\n",
       "      <td>4123914</td>\n",
       "    </tr>\n",
       "    <tr>\n",
       "      <th>2</th>\n",
       "      <td>0.246933</td>\n",
       "      <td>22483130</td>\n",
       "      <td>24371233</td>\n",
       "      <td>5377243</td>\n",
       "      <td>4123914</td>\n",
       "    </tr>\n",
       "    <tr>\n",
       "      <th>3</th>\n",
       "      <td>0.237356</td>\n",
       "      <td>25094730</td>\n",
       "      <td>24371233</td>\n",
       "      <td>5169413</td>\n",
       "      <td>4123914</td>\n",
       "    </tr>\n",
       "    <tr>\n",
       "      <th>4</th>\n",
       "      <td>0.228729</td>\n",
       "      <td>25407669</td>\n",
       "      <td>24371233</td>\n",
       "      <td>5237832</td>\n",
       "      <td>4123914</td>\n",
       "    </tr>\n",
       "  </tbody>\n",
       "</table>\n",
       "</div>"
      ],
      "text/plain": [
       "        cos  ccmt_docdb_family_id  docdb_family_id ccmt_patent_id patent_id\n",
       "0  0.186756               1187498         24371233        5946941   4123914\n",
       "1  0.236607              19565893         24371233        6324865   4123914\n",
       "2  0.246933              22483130         24371233        5377243   4123914\n",
       "3  0.237356              25094730         24371233        5169413   4123914\n",
       "4  0.228729              25407669         24371233        5237832   4123914"
      ]
     },
     "execution_count": 31,
     "metadata": {},
     "output_type": "execute_result"
    }
   ],
   "source": [
    "df_matched2 = df_matched2[['cos','ccmt_docdb_family_id','docdb_family_id']].merge(\n",
    "    patvecdf[[\"patent_id\", \"docdb_family_id\"]].rename(\n",
    "        columns={\"docdb_family_id\": \"ccmt_docdb_family_id\",\"patent_id\":\"ccmt_patent_id\"}\n",
    "    )\n",
    ").merge(patvecdf[[\"patent_id\", \"docdb_family_id\"]])\n",
    "df_matched2.head()"
   ]
  },
  {
   "cell_type": "code",
   "execution_count": 33,
   "id": "fb757aea-c7a5-4951-8b15-5eaa387eb021",
   "metadata": {},
   "outputs": [],
   "source": [
    "df_matched2.to_parquet('data/tocheck.parquet',index=False)"
   ]
  },
  {
   "cell_type": "code",
   "execution_count": 34,
   "id": "fd2cdc1e-c538-4c18-bbb7-cb31042cecad",
   "metadata": {},
   "outputs": [
    {
     "data": {
      "text/plain": [
       "((288579, 3), (3937424, 5))"
      ]
     },
     "execution_count": 34,
     "metadata": {},
     "output_type": "execute_result"
    }
   ],
   "source": [
    "df_matched.shape, df_matched2.shape"
   ]
  },
  {
   "cell_type": "code",
   "execution_count": null,
   "id": "c5d06c6b-4fd8-4174-8f9e-dbd0b2286dba",
   "metadata": {},
   "outputs": [],
   "source": []
  }
 ],
 "metadata": {
  "kernelspec": {
   "display_name": "Python 3 (ipykernel)",
   "language": "python",
   "name": "python3"
  },
  "language_info": {
   "codemirror_mode": {
    "name": "ipython",
    "version": 3
   },
   "file_extension": ".py",
   "mimetype": "text/x-python",
   "name": "python",
   "nbconvert_exporter": "python",
   "pygments_lexer": "ipython3",
   "version": "3.8.12"
  }
 },
 "nbformat": 4,
 "nbformat_minor": 5
}
